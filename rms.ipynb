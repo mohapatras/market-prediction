{
 "cells": [
  {
   "cell_type": "code",
   "execution_count": 1,
   "metadata": {},
   "outputs": [],
   "source": [
    "import numpy as np\n",
    "import pandas as pd\n",
    "\n",
    "from pandas.plotting import register_matplotlib_converters\n",
    "register_matplotlib_converters()"
   ]
  },
  {
   "cell_type": "code",
   "execution_count": 2,
   "metadata": {},
   "outputs": [],
   "source": [
    "import matplotlib.pyplot as plt\n",
    "from matplotlib.pylab import rcParams\n",
    "\n",
    "%matplotlib inline\n",
    "rcParams['figure.figsize']=20,10"
   ]
  },
  {
   "cell_type": "code",
   "execution_count": 3,
   "metadata": {},
   "outputs": [],
   "source": [
    "import missingno as mo\n",
    "import seaborn as sns\n",
    "sns.set()"
   ]
  },
  {
   "cell_type": "code",
   "execution_count": 59,
   "metadata": {},
   "outputs": [],
   "source": [
    "from sklearn import neighbors\n",
    "from sklearn.preprocessing import MinMaxScaler\n",
    "from sklearn.model_selection import GridSearchCV"
   ]
  },
  {
   "cell_type": "code",
   "execution_count": 4,
   "metadata": {},
   "outputs": [],
   "source": [
    "df = pd.read_csv('C:/Users/biju/Documents/timeseries/nse_data.csv')"
   ]
  },
  {
   "cell_type": "code",
   "execution_count": 5,
   "metadata": {},
   "outputs": [
    {
     "data": {
      "text/html": [
       "<div>\n",
       "<style scoped>\n",
       "    .dataframe tbody tr th:only-of-type {\n",
       "        vertical-align: middle;\n",
       "    }\n",
       "\n",
       "    .dataframe tbody tr th {\n",
       "        vertical-align: top;\n",
       "    }\n",
       "\n",
       "    .dataframe thead th {\n",
       "        text-align: right;\n",
       "    }\n",
       "</style>\n",
       "<table border=\"1\" class=\"dataframe\">\n",
       "  <thead>\n",
       "    <tr style=\"text-align: right;\">\n",
       "      <th></th>\n",
       "      <th>SYMBOL</th>\n",
       "      <th>SERIES</th>\n",
       "      <th>OPEN</th>\n",
       "      <th>HIGH</th>\n",
       "      <th>LOW</th>\n",
       "      <th>CLOSE</th>\n",
       "      <th>LAST</th>\n",
       "      <th>PREVCLOSE</th>\n",
       "      <th>TOTTRDQTY</th>\n",
       "      <th>TOTTRDVAL</th>\n",
       "      <th>TIMESTAMP</th>\n",
       "      <th>TOTALTRADES</th>\n",
       "      <th>ISIN</th>\n",
       "    </tr>\n",
       "  </thead>\n",
       "  <tbody>\n",
       "    <tr>\n",
       "      <th>0</th>\n",
       "      <td>20MICRONS</td>\n",
       "      <td>EQ</td>\n",
       "      <td>37.80</td>\n",
       "      <td>37.80</td>\n",
       "      <td>36.15</td>\n",
       "      <td>36.85</td>\n",
       "      <td>37.40</td>\n",
       "      <td>37.05</td>\n",
       "      <td>27130</td>\n",
       "      <td>994657.90</td>\n",
       "      <td>2017-06-28</td>\n",
       "      <td>202</td>\n",
       "      <td>INE144J01027</td>\n",
       "    </tr>\n",
       "    <tr>\n",
       "      <th>1</th>\n",
       "      <td>3IINFOTECH</td>\n",
       "      <td>EQ</td>\n",
       "      <td>4.10</td>\n",
       "      <td>4.85</td>\n",
       "      <td>4.00</td>\n",
       "      <td>4.55</td>\n",
       "      <td>4.65</td>\n",
       "      <td>4.05</td>\n",
       "      <td>20157058</td>\n",
       "      <td>92148517.65</td>\n",
       "      <td>2017-06-28</td>\n",
       "      <td>7353</td>\n",
       "      <td>INE748C01020</td>\n",
       "    </tr>\n",
       "    <tr>\n",
       "      <th>2</th>\n",
       "      <td>3MINDIA</td>\n",
       "      <td>EQ</td>\n",
       "      <td>13425.15</td>\n",
       "      <td>13469.55</td>\n",
       "      <td>12920.00</td>\n",
       "      <td>13266.70</td>\n",
       "      <td>13300.00</td>\n",
       "      <td>13460.55</td>\n",
       "      <td>2290</td>\n",
       "      <td>30304923.35</td>\n",
       "      <td>2017-06-28</td>\n",
       "      <td>748</td>\n",
       "      <td>INE470A01017</td>\n",
       "    </tr>\n",
       "    <tr>\n",
       "      <th>3</th>\n",
       "      <td>63MOONS</td>\n",
       "      <td>EQ</td>\n",
       "      <td>61.00</td>\n",
       "      <td>61.90</td>\n",
       "      <td>60.35</td>\n",
       "      <td>61.00</td>\n",
       "      <td>61.10</td>\n",
       "      <td>60.65</td>\n",
       "      <td>27701</td>\n",
       "      <td>1689421.00</td>\n",
       "      <td>2017-06-28</td>\n",
       "      <td>437</td>\n",
       "      <td>INE111B01023</td>\n",
       "    </tr>\n",
       "    <tr>\n",
       "      <th>4</th>\n",
       "      <td>8KMILES</td>\n",
       "      <td>EQ</td>\n",
       "      <td>546.10</td>\n",
       "      <td>548.00</td>\n",
       "      <td>535.00</td>\n",
       "      <td>537.45</td>\n",
       "      <td>535.20</td>\n",
       "      <td>547.45</td>\n",
       "      <td>79722</td>\n",
       "      <td>43208620.05</td>\n",
       "      <td>2017-06-28</td>\n",
       "      <td>1866</td>\n",
       "      <td>INE650K01021</td>\n",
       "    </tr>\n",
       "  </tbody>\n",
       "</table>\n",
       "</div>"
      ],
      "text/plain": [
       "       SYMBOL SERIES      OPEN      HIGH       LOW     CLOSE      LAST  \\\n",
       "0   20MICRONS     EQ     37.80     37.80     36.15     36.85     37.40   \n",
       "1  3IINFOTECH     EQ      4.10      4.85      4.00      4.55      4.65   \n",
       "2     3MINDIA     EQ  13425.15  13469.55  12920.00  13266.70  13300.00   \n",
       "3     63MOONS     EQ     61.00     61.90     60.35     61.00     61.10   \n",
       "4     8KMILES     EQ    546.10    548.00    535.00    537.45    535.20   \n",
       "\n",
       "   PREVCLOSE  TOTTRDQTY    TOTTRDVAL   TIMESTAMP  TOTALTRADES          ISIN  \n",
       "0      37.05      27130    994657.90  2017-06-28          202  INE144J01027  \n",
       "1       4.05   20157058  92148517.65  2017-06-28         7353  INE748C01020  \n",
       "2   13460.55       2290  30304923.35  2017-06-28          748  INE470A01017  \n",
       "3      60.65      27701   1689421.00  2017-06-28          437  INE111B01023  \n",
       "4     547.45      79722  43208620.05  2017-06-28         1866  INE650K01021  "
      ]
     },
     "execution_count": 5,
     "metadata": {},
     "output_type": "execute_result"
    }
   ],
   "source": [
    "df.head()"
   ]
  },
  {
   "cell_type": "code",
   "execution_count": 6,
   "metadata": {},
   "outputs": [
    {
     "data": {
      "text/plain": [
       "True"
      ]
     },
     "execution_count": 6,
     "metadata": {},
     "output_type": "execute_result"
    }
   ],
   "source": [
    "df.isnull().values.any()"
   ]
  },
  {
   "cell_type": "code",
   "execution_count": 7,
   "metadata": {},
   "outputs": [
    {
     "data": {
      "text/html": [
       "<div>\n",
       "<style scoped>\n",
       "    .dataframe tbody tr th:only-of-type {\n",
       "        vertical-align: middle;\n",
       "    }\n",
       "\n",
       "    .dataframe tbody tr th {\n",
       "        vertical-align: top;\n",
       "    }\n",
       "\n",
       "    .dataframe thead th {\n",
       "        text-align: right;\n",
       "    }\n",
       "</style>\n",
       "<table border=\"1\" class=\"dataframe\">\n",
       "  <thead>\n",
       "    <tr style=\"text-align: right;\">\n",
       "      <th></th>\n",
       "      <th>SYMBOL</th>\n",
       "      <th>SERIES</th>\n",
       "      <th>OPEN</th>\n",
       "      <th>HIGH</th>\n",
       "      <th>LOW</th>\n",
       "      <th>CLOSE</th>\n",
       "      <th>LAST</th>\n",
       "      <th>PREVCLOSE</th>\n",
       "      <th>TOTTRDQTY</th>\n",
       "      <th>TOTTRDVAL</th>\n",
       "      <th>TIMESTAMP</th>\n",
       "      <th>TOTALTRADES</th>\n",
       "      <th>ISIN</th>\n",
       "    </tr>\n",
       "  </thead>\n",
       "  <tbody>\n",
       "    <tr>\n",
       "      <th>0</th>\n",
       "      <td>False</td>\n",
       "      <td>False</td>\n",
       "      <td>False</td>\n",
       "      <td>False</td>\n",
       "      <td>False</td>\n",
       "      <td>False</td>\n",
       "      <td>False</td>\n",
       "      <td>False</td>\n",
       "      <td>False</td>\n",
       "      <td>False</td>\n",
       "      <td>False</td>\n",
       "      <td>False</td>\n",
       "      <td>False</td>\n",
       "    </tr>\n",
       "    <tr>\n",
       "      <th>1</th>\n",
       "      <td>False</td>\n",
       "      <td>False</td>\n",
       "      <td>False</td>\n",
       "      <td>False</td>\n",
       "      <td>False</td>\n",
       "      <td>False</td>\n",
       "      <td>False</td>\n",
       "      <td>False</td>\n",
       "      <td>False</td>\n",
       "      <td>False</td>\n",
       "      <td>False</td>\n",
       "      <td>False</td>\n",
       "      <td>False</td>\n",
       "    </tr>\n",
       "    <tr>\n",
       "      <th>2</th>\n",
       "      <td>False</td>\n",
       "      <td>False</td>\n",
       "      <td>False</td>\n",
       "      <td>False</td>\n",
       "      <td>False</td>\n",
       "      <td>False</td>\n",
       "      <td>False</td>\n",
       "      <td>False</td>\n",
       "      <td>False</td>\n",
       "      <td>False</td>\n",
       "      <td>False</td>\n",
       "      <td>False</td>\n",
       "      <td>False</td>\n",
       "    </tr>\n",
       "    <tr>\n",
       "      <th>3</th>\n",
       "      <td>False</td>\n",
       "      <td>False</td>\n",
       "      <td>False</td>\n",
       "      <td>False</td>\n",
       "      <td>False</td>\n",
       "      <td>False</td>\n",
       "      <td>False</td>\n",
       "      <td>False</td>\n",
       "      <td>False</td>\n",
       "      <td>False</td>\n",
       "      <td>False</td>\n",
       "      <td>False</td>\n",
       "      <td>False</td>\n",
       "    </tr>\n",
       "    <tr>\n",
       "      <th>4</th>\n",
       "      <td>False</td>\n",
       "      <td>False</td>\n",
       "      <td>False</td>\n",
       "      <td>False</td>\n",
       "      <td>False</td>\n",
       "      <td>False</td>\n",
       "      <td>False</td>\n",
       "      <td>False</td>\n",
       "      <td>False</td>\n",
       "      <td>False</td>\n",
       "      <td>False</td>\n",
       "      <td>False</td>\n",
       "      <td>False</td>\n",
       "    </tr>\n",
       "    <tr>\n",
       "      <th>...</th>\n",
       "      <td>...</td>\n",
       "      <td>...</td>\n",
       "      <td>...</td>\n",
       "      <td>...</td>\n",
       "      <td>...</td>\n",
       "      <td>...</td>\n",
       "      <td>...</td>\n",
       "      <td>...</td>\n",
       "      <td>...</td>\n",
       "      <td>...</td>\n",
       "      <td>...</td>\n",
       "      <td>...</td>\n",
       "      <td>...</td>\n",
       "    </tr>\n",
       "    <tr>\n",
       "      <th>846399</th>\n",
       "      <td>False</td>\n",
       "      <td>False</td>\n",
       "      <td>False</td>\n",
       "      <td>False</td>\n",
       "      <td>False</td>\n",
       "      <td>False</td>\n",
       "      <td>False</td>\n",
       "      <td>False</td>\n",
       "      <td>False</td>\n",
       "      <td>False</td>\n",
       "      <td>False</td>\n",
       "      <td>False</td>\n",
       "      <td>False</td>\n",
       "    </tr>\n",
       "    <tr>\n",
       "      <th>846400</th>\n",
       "      <td>False</td>\n",
       "      <td>False</td>\n",
       "      <td>False</td>\n",
       "      <td>False</td>\n",
       "      <td>False</td>\n",
       "      <td>False</td>\n",
       "      <td>False</td>\n",
       "      <td>False</td>\n",
       "      <td>False</td>\n",
       "      <td>False</td>\n",
       "      <td>False</td>\n",
       "      <td>False</td>\n",
       "      <td>False</td>\n",
       "    </tr>\n",
       "    <tr>\n",
       "      <th>846401</th>\n",
       "      <td>False</td>\n",
       "      <td>False</td>\n",
       "      <td>False</td>\n",
       "      <td>False</td>\n",
       "      <td>False</td>\n",
       "      <td>False</td>\n",
       "      <td>False</td>\n",
       "      <td>False</td>\n",
       "      <td>False</td>\n",
       "      <td>False</td>\n",
       "      <td>False</td>\n",
       "      <td>False</td>\n",
       "      <td>False</td>\n",
       "    </tr>\n",
       "    <tr>\n",
       "      <th>846402</th>\n",
       "      <td>False</td>\n",
       "      <td>False</td>\n",
       "      <td>False</td>\n",
       "      <td>False</td>\n",
       "      <td>False</td>\n",
       "      <td>False</td>\n",
       "      <td>False</td>\n",
       "      <td>False</td>\n",
       "      <td>False</td>\n",
       "      <td>False</td>\n",
       "      <td>False</td>\n",
       "      <td>False</td>\n",
       "      <td>False</td>\n",
       "    </tr>\n",
       "    <tr>\n",
       "      <th>846403</th>\n",
       "      <td>False</td>\n",
       "      <td>False</td>\n",
       "      <td>False</td>\n",
       "      <td>False</td>\n",
       "      <td>False</td>\n",
       "      <td>False</td>\n",
       "      <td>False</td>\n",
       "      <td>False</td>\n",
       "      <td>False</td>\n",
       "      <td>False</td>\n",
       "      <td>False</td>\n",
       "      <td>False</td>\n",
       "      <td>False</td>\n",
       "    </tr>\n",
       "  </tbody>\n",
       "</table>\n",
       "<p>846404 rows × 13 columns</p>\n",
       "</div>"
      ],
      "text/plain": [
       "        SYMBOL  SERIES   OPEN   HIGH    LOW  CLOSE   LAST  PREVCLOSE  \\\n",
       "0        False   False  False  False  False  False  False      False   \n",
       "1        False   False  False  False  False  False  False      False   \n",
       "2        False   False  False  False  False  False  False      False   \n",
       "3        False   False  False  False  False  False  False      False   \n",
       "4        False   False  False  False  False  False  False      False   \n",
       "...        ...     ...    ...    ...    ...    ...    ...        ...   \n",
       "846399   False   False  False  False  False  False  False      False   \n",
       "846400   False   False  False  False  False  False  False      False   \n",
       "846401   False   False  False  False  False  False  False      False   \n",
       "846402   False   False  False  False  False  False  False      False   \n",
       "846403   False   False  False  False  False  False  False      False   \n",
       "\n",
       "        TOTTRDQTY  TOTTRDVAL  TIMESTAMP  TOTALTRADES   ISIN  \n",
       "0           False      False      False        False  False  \n",
       "1           False      False      False        False  False  \n",
       "2           False      False      False        False  False  \n",
       "3           False      False      False        False  False  \n",
       "4           False      False      False        False  False  \n",
       "...           ...        ...        ...          ...    ...  \n",
       "846399      False      False      False        False  False  \n",
       "846400      False      False      False        False  False  \n",
       "846401      False      False      False        False  False  \n",
       "846402      False      False      False        False  False  \n",
       "846403      False      False      False        False  False  \n",
       "\n",
       "[846404 rows x 13 columns]"
      ]
     },
     "execution_count": 7,
     "metadata": {},
     "output_type": "execute_result"
    }
   ],
   "source": [
    "df.isnull()"
   ]
  },
  {
   "cell_type": "code",
   "execution_count": 8,
   "metadata": {},
   "outputs": [
    {
     "data": {
      "text/plain": [
       "(array([   614,    634,    656, ..., 845263, 845320, 845675], dtype=int64),\n",
       " array([1, 1, 1, ..., 1, 1, 1], dtype=int64))"
      ]
     },
     "execution_count": 8,
     "metadata": {},
     "output_type": "execute_result"
    }
   ],
   "source": [
    "np.where(pd.isnull(df))"
   ]
  },
  {
   "cell_type": "code",
   "execution_count": 9,
   "metadata": {},
   "outputs": [
    {
     "data": {
      "text/plain": [
       "<matplotlib.axes._subplots.AxesSubplot at 0x210b13a8da0>"
      ]
     },
     "execution_count": 9,
     "metadata": {},
     "output_type": "execute_result"
    },
    {
     "data": {
      "image/png": "[encoded data removed]",
      "text/plain": [
       "<Figure size 1800x720 with 2 Axes>"
      ]
     },
     "metadata": {},
     "output_type": "display_data"
    }
   ],
   "source": [
    "mo.matrix(df)"
   ]
  },
  {
   "cell_type": "code",
   "execution_count": 10,
   "metadata": {},
   "outputs": [
    {
     "name": "stdout",
     "output_type": "stream",
     "text": [
      "         SYMBOL SERIES    OPEN     HIGH     LOW    CLOSE     LAST  PREVCLOSE  \\\n",
      "614  IBULHSGFIN    NaN  1075.0  1084.99  1075.0  1084.99  1084.99     1075.0   \n",
      "\n",
      "     TOTTRDQTY  TOTTRDVAL   TIMESTAMP  TOTALTRADES          ISIN  \n",
      "614         21   22584.99  2017-06-28            2  INE148I07GL3  \n"
     ]
    }
   ],
   "source": [
    "print(df.loc[[614]])"
   ]
  },
  {
   "cell_type": "code",
   "execution_count": 11,
   "metadata": {},
   "outputs": [
    {
     "name": "stdout",
     "output_type": "stream",
     "text": [
      "       SYMBOL SERIES     OPEN    HIGH      LOW   CLOSE    LAST  PREVCLOSE  \\\n",
      "634  IDFCBANK    NaN  7905.05  7916.0  7905.05  7916.0  7916.0     7921.0   \n",
      "\n",
      "     TOTTRDQTY  TOTTRDVAL   TIMESTAMP  TOTALTRADES          ISIN  \n",
      "634         16   126588.2  2017-06-28            4  INE092T08CL7  \n"
     ]
    }
   ],
   "source": [
    "print(df.loc[[634]])"
   ]
  },
  {
   "cell_type": "code",
   "execution_count": 12,
   "metadata": {},
   "outputs": [
    {
     "data": {
      "text/plain": [
       "SYMBOL            0\n",
       "SERIES         2457\n",
       "OPEN              0\n",
       "HIGH              0\n",
       "LOW               0\n",
       "CLOSE             0\n",
       "LAST              0\n",
       "PREVCLOSE         0\n",
       "TOTTRDQTY         0\n",
       "TOTTRDVAL         0\n",
       "TIMESTAMP         0\n",
       "TOTALTRADES       0\n",
       "ISIN              0\n",
       "dtype: int64"
      ]
     },
     "execution_count": 12,
     "metadata": {},
     "output_type": "execute_result"
    }
   ],
   "source": [
    "df.isnull().sum()"
   ]
  },
  {
   "cell_type": "code",
   "execution_count": 13,
   "metadata": {},
   "outputs": [
    {
     "data": {
      "text/plain": [
       "array(['EQ', 'BZ', 'BE', 'SM', 'N1', 'N6', 'N8', 'NC', 'NH', 'NN', 'NP',\n",
       "       'N3', 'N2', 'N5', 'IL', 'W2', 'N9', 'ND', 'NE', nan, 'N4', 'N7',\n",
       "       'NB', 'NJ', 'NK', 'NL', 'IV', 'NO', 'P2', 'MF', 'P1', 'NF', 'NI',\n",
       "       'GB', 'NG', 'NZ', 'Y8', 'YA', 'YB', 'NS', 'NU', 'NW', 'NX', 'Y3',\n",
       "       'Y6', 'Y9', 'DR', 'Q1', 'IT', 'NM', 'D1', 'NR', 'Y1', 'Y5', 'BL',\n",
       "       'Y2', 'YC', 'Y7', 'YG', 'Q2', 'NT', 'HB', 'HC', 'YD', 'NV', 'NY',\n",
       "       'NQ', 'Y4', 'HE', 'H6', 'HA', 'BT'], dtype=object)"
      ]
     },
     "execution_count": 13,
     "metadata": {},
     "output_type": "execute_result"
    }
   ],
   "source": [
    "df['SERIES'].unique()"
   ]
  },
  {
   "cell_type": "code",
   "execution_count": 14,
   "metadata": {},
   "outputs": [],
   "source": [
    "df_1 = df.drop(columns=['SERIES'], axis=1)"
   ]
  },
  {
   "cell_type": "code",
   "execution_count": 15,
   "metadata": {},
   "outputs": [
    {
     "data": {
      "text/html": [
       "<div>\n",
       "<style scoped>\n",
       "    .dataframe tbody tr th:only-of-type {\n",
       "        vertical-align: middle;\n",
       "    }\n",
       "\n",
       "    .dataframe tbody tr th {\n",
       "        vertical-align: top;\n",
       "    }\n",
       "\n",
       "    .dataframe thead th {\n",
       "        text-align: right;\n",
       "    }\n",
       "</style>\n",
       "<table border=\"1\" class=\"dataframe\">\n",
       "  <thead>\n",
       "    <tr style=\"text-align: right;\">\n",
       "      <th></th>\n",
       "      <th>SYMBOL</th>\n",
       "      <th>OPEN</th>\n",
       "      <th>HIGH</th>\n",
       "      <th>LOW</th>\n",
       "      <th>CLOSE</th>\n",
       "      <th>LAST</th>\n",
       "      <th>PREVCLOSE</th>\n",
       "      <th>TOTTRDQTY</th>\n",
       "      <th>TOTTRDVAL</th>\n",
       "      <th>TIMESTAMP</th>\n",
       "      <th>TOTALTRADES</th>\n",
       "      <th>ISIN</th>\n",
       "    </tr>\n",
       "  </thead>\n",
       "  <tbody>\n",
       "    <tr>\n",
       "      <th>0</th>\n",
       "      <td>20MICRONS</td>\n",
       "      <td>37.80</td>\n",
       "      <td>37.80</td>\n",
       "      <td>36.15</td>\n",
       "      <td>36.85</td>\n",
       "      <td>37.40</td>\n",
       "      <td>37.05</td>\n",
       "      <td>27130</td>\n",
       "      <td>994657.90</td>\n",
       "      <td>2017-06-28</td>\n",
       "      <td>202</td>\n",
       "      <td>INE144J01027</td>\n",
       "    </tr>\n",
       "    <tr>\n",
       "      <th>1</th>\n",
       "      <td>3IINFOTECH</td>\n",
       "      <td>4.10</td>\n",
       "      <td>4.85</td>\n",
       "      <td>4.00</td>\n",
       "      <td>4.55</td>\n",
       "      <td>4.65</td>\n",
       "      <td>4.05</td>\n",
       "      <td>20157058</td>\n",
       "      <td>92148517.65</td>\n",
       "      <td>2017-06-28</td>\n",
       "      <td>7353</td>\n",
       "      <td>INE748C01020</td>\n",
       "    </tr>\n",
       "    <tr>\n",
       "      <th>2</th>\n",
       "      <td>3MINDIA</td>\n",
       "      <td>13425.15</td>\n",
       "      <td>13469.55</td>\n",
       "      <td>12920.00</td>\n",
       "      <td>13266.70</td>\n",
       "      <td>13300.00</td>\n",
       "      <td>13460.55</td>\n",
       "      <td>2290</td>\n",
       "      <td>30304923.35</td>\n",
       "      <td>2017-06-28</td>\n",
       "      <td>748</td>\n",
       "      <td>INE470A01017</td>\n",
       "    </tr>\n",
       "    <tr>\n",
       "      <th>3</th>\n",
       "      <td>63MOONS</td>\n",
       "      <td>61.00</td>\n",
       "      <td>61.90</td>\n",
       "      <td>60.35</td>\n",
       "      <td>61.00</td>\n",
       "      <td>61.10</td>\n",
       "      <td>60.65</td>\n",
       "      <td>27701</td>\n",
       "      <td>1689421.00</td>\n",
       "      <td>2017-06-28</td>\n",
       "      <td>437</td>\n",
       "      <td>INE111B01023</td>\n",
       "    </tr>\n",
       "    <tr>\n",
       "      <th>4</th>\n",
       "      <td>8KMILES</td>\n",
       "      <td>546.10</td>\n",
       "      <td>548.00</td>\n",
       "      <td>535.00</td>\n",
       "      <td>537.45</td>\n",
       "      <td>535.20</td>\n",
       "      <td>547.45</td>\n",
       "      <td>79722</td>\n",
       "      <td>43208620.05</td>\n",
       "      <td>2017-06-28</td>\n",
       "      <td>1866</td>\n",
       "      <td>INE650K01021</td>\n",
       "    </tr>\n",
       "  </tbody>\n",
       "</table>\n",
       "</div>"
      ],
      "text/plain": [
       "       SYMBOL      OPEN      HIGH       LOW     CLOSE      LAST  PREVCLOSE  \\\n",
       "0   20MICRONS     37.80     37.80     36.15     36.85     37.40      37.05   \n",
       "1  3IINFOTECH      4.10      4.85      4.00      4.55      4.65       4.05   \n",
       "2     3MINDIA  13425.15  13469.55  12920.00  13266.70  13300.00   13460.55   \n",
       "3     63MOONS     61.00     61.90     60.35     61.00     61.10      60.65   \n",
       "4     8KMILES    546.10    548.00    535.00    537.45    535.20     547.45   \n",
       "\n",
       "   TOTTRDQTY    TOTTRDVAL   TIMESTAMP  TOTALTRADES          ISIN  \n",
       "0      27130    994657.90  2017-06-28          202  INE144J01027  \n",
       "1   20157058  92148517.65  2017-06-28         7353  INE748C01020  \n",
       "2       2290  30304923.35  2017-06-28          748  INE470A01017  \n",
       "3      27701   1689421.00  2017-06-28          437  INE111B01023  \n",
       "4      79722  43208620.05  2017-06-28         1866  INE650K01021  "
      ]
     },
     "execution_count": 15,
     "metadata": {},
     "output_type": "execute_result"
    }
   ],
   "source": [
    "df_1.head()"
   ]
  },
  {
   "cell_type": "code",
   "execution_count": 16,
   "metadata": {},
   "outputs": [
    {
     "data": {
      "text/plain": [
       "array(['2017-06-28', '2017-06-28', '2017-06-28', ..., '2017-12-29',\n",
       "       '2017-12-29', '2017-12-29'], dtype=object)"
      ]
     },
     "execution_count": 16,
     "metadata": {},
     "output_type": "execute_result"
    }
   ],
   "source": [
    "df.TIMESTAMP.values"
   ]
  },
  {
   "cell_type": "code",
   "execution_count": 17,
   "metadata": {},
   "outputs": [],
   "source": [
    "df_1['TIME_STAMP'] = pd.to_datetime(df_1['TIMESTAMP'],format='%Y-%m-%d')"
   ]
  },
  {
   "cell_type": "code",
   "execution_count": 18,
   "metadata": {},
   "outputs": [
    {
     "data": {
      "text/plain": [
       "array(['2017-06-28T00:00:00.000000000', '2017-06-28T00:00:00.000000000',\n",
       "       '2017-06-28T00:00:00.000000000', ...,\n",
       "       '2017-12-29T00:00:00.000000000', '2017-12-29T00:00:00.000000000',\n",
       "       '2017-12-29T00:00:00.000000000'], dtype='datetime64[ns]')"
      ]
     },
     "execution_count": 18,
     "metadata": {},
     "output_type": "execute_result"
    }
   ],
   "source": [
    "df_1.TIME_STAMP.values"
   ]
  },
  {
   "cell_type": "code",
   "execution_count": 19,
   "metadata": {},
   "outputs": [
    {
     "data": {
      "text/plain": [
       "<matplotlib.axes._subplots.AxesSubplot at 0x210b9621160>"
      ]
     },
     "execution_count": 19,
     "metadata": {},
     "output_type": "execute_result"
    },
    {
     "data": {
      "image/png": "[encoded data removed]",
      "text/plain": [
       "<Figure size 1440x720 with 1 Axes>"
      ]
     },
     "metadata": {},
     "output_type": "display_data"
    }
   ],
   "source": [
    "sns.lineplot(x = df_1['TIME_STAMP'], y=df_1['CLOSE'], color=\"coral\", label=\"closing price\")"
   ]
  },
  {
   "cell_type": "code",
   "execution_count": 20,
   "metadata": {},
   "outputs": [
    {
     "data": {
      "text/plain": [
       "count                  846404\n",
       "unique                    495\n",
       "top       2017-12-26 00:00:00\n",
       "freq                     1860\n",
       "first     2016-01-01 00:00:00\n",
       "last      2017-12-29 00:00:00\n",
       "Name: TIME_STAMP, dtype: object"
      ]
     },
     "execution_count": 20,
     "metadata": {},
     "output_type": "execute_result"
    }
   ],
   "source": [
    "df_1['TIME_STAMP'].describe()"
   ]
  },
  {
   "cell_type": "code",
   "execution_count": 21,
   "metadata": {},
   "outputs": [
    {
     "data": {
      "text/html": [
       "<div>\n",
       "<style scoped>\n",
       "    .dataframe tbody tr th:only-of-type {\n",
       "        vertical-align: middle;\n",
       "    }\n",
       "\n",
       "    .dataframe tbody tr th {\n",
       "        vertical-align: top;\n",
       "    }\n",
       "\n",
       "    .dataframe thead th {\n",
       "        text-align: right;\n",
       "    }\n",
       "</style>\n",
       "<table border=\"1\" class=\"dataframe\">\n",
       "  <thead>\n",
       "    <tr style=\"text-align: right;\">\n",
       "      <th></th>\n",
       "      <th>SYMBOL</th>\n",
       "      <th>OPEN</th>\n",
       "      <th>HIGH</th>\n",
       "      <th>LOW</th>\n",
       "      <th>CLOSE</th>\n",
       "      <th>LAST</th>\n",
       "      <th>PREVCLOSE</th>\n",
       "      <th>TOTTRDQTY</th>\n",
       "      <th>TOTTRDVAL</th>\n",
       "      <th>TIMESTAMP</th>\n",
       "      <th>TOTALTRADES</th>\n",
       "      <th>ISIN</th>\n",
       "      <th>TIME_STAMP</th>\n",
       "    </tr>\n",
       "  </thead>\n",
       "  <tbody>\n",
       "    <tr>\n",
       "      <th>0</th>\n",
       "      <td>20MICRONS</td>\n",
       "      <td>37.80</td>\n",
       "      <td>37.80</td>\n",
       "      <td>36.15</td>\n",
       "      <td>36.85</td>\n",
       "      <td>37.40</td>\n",
       "      <td>37.05</td>\n",
       "      <td>27130</td>\n",
       "      <td>994657.90</td>\n",
       "      <td>2017-06-28</td>\n",
       "      <td>202</td>\n",
       "      <td>INE144J01027</td>\n",
       "      <td>2017-06-28</td>\n",
       "    </tr>\n",
       "    <tr>\n",
       "      <th>1</th>\n",
       "      <td>3IINFOTECH</td>\n",
       "      <td>4.10</td>\n",
       "      <td>4.85</td>\n",
       "      <td>4.00</td>\n",
       "      <td>4.55</td>\n",
       "      <td>4.65</td>\n",
       "      <td>4.05</td>\n",
       "      <td>20157058</td>\n",
       "      <td>92148517.65</td>\n",
       "      <td>2017-06-28</td>\n",
       "      <td>7353</td>\n",
       "      <td>INE748C01020</td>\n",
       "      <td>2017-06-28</td>\n",
       "    </tr>\n",
       "    <tr>\n",
       "      <th>2</th>\n",
       "      <td>3MINDIA</td>\n",
       "      <td>13425.15</td>\n",
       "      <td>13469.55</td>\n",
       "      <td>12920.00</td>\n",
       "      <td>13266.70</td>\n",
       "      <td>13300.00</td>\n",
       "      <td>13460.55</td>\n",
       "      <td>2290</td>\n",
       "      <td>30304923.35</td>\n",
       "      <td>2017-06-28</td>\n",
       "      <td>748</td>\n",
       "      <td>INE470A01017</td>\n",
       "      <td>2017-06-28</td>\n",
       "    </tr>\n",
       "    <tr>\n",
       "      <th>3</th>\n",
       "      <td>63MOONS</td>\n",
       "      <td>61.00</td>\n",
       "      <td>61.90</td>\n",
       "      <td>60.35</td>\n",
       "      <td>61.00</td>\n",
       "      <td>61.10</td>\n",
       "      <td>60.65</td>\n",
       "      <td>27701</td>\n",
       "      <td>1689421.00</td>\n",
       "      <td>2017-06-28</td>\n",
       "      <td>437</td>\n",
       "      <td>INE111B01023</td>\n",
       "      <td>2017-06-28</td>\n",
       "    </tr>\n",
       "    <tr>\n",
       "      <th>4</th>\n",
       "      <td>8KMILES</td>\n",
       "      <td>546.10</td>\n",
       "      <td>548.00</td>\n",
       "      <td>535.00</td>\n",
       "      <td>537.45</td>\n",
       "      <td>535.20</td>\n",
       "      <td>547.45</td>\n",
       "      <td>79722</td>\n",
       "      <td>43208620.05</td>\n",
       "      <td>2017-06-28</td>\n",
       "      <td>1866</td>\n",
       "      <td>INE650K01021</td>\n",
       "      <td>2017-06-28</td>\n",
       "    </tr>\n",
       "  </tbody>\n",
       "</table>\n",
       "</div>"
      ],
      "text/plain": [
       "       SYMBOL      OPEN      HIGH       LOW     CLOSE      LAST  PREVCLOSE  \\\n",
       "0   20MICRONS     37.80     37.80     36.15     36.85     37.40      37.05   \n",
       "1  3IINFOTECH      4.10      4.85      4.00      4.55      4.65       4.05   \n",
       "2     3MINDIA  13425.15  13469.55  12920.00  13266.70  13300.00   13460.55   \n",
       "3     63MOONS     61.00     61.90     60.35     61.00     61.10      60.65   \n",
       "4     8KMILES    546.10    548.00    535.00    537.45    535.20     547.45   \n",
       "\n",
       "   TOTTRDQTY    TOTTRDVAL   TIMESTAMP  TOTALTRADES          ISIN TIME_STAMP  \n",
       "0      27130    994657.90  2017-06-28          202  INE144J01027 2017-06-28  \n",
       "1   20157058  92148517.65  2017-06-28         7353  INE748C01020 2017-06-28  \n",
       "2       2290  30304923.35  2017-06-28          748  INE470A01017 2017-06-28  \n",
       "3      27701   1689421.00  2017-06-28          437  INE111B01023 2017-06-28  \n",
       "4      79722  43208620.05  2017-06-28         1866  INE650K01021 2017-06-28  "
      ]
     },
     "execution_count": 21,
     "metadata": {},
     "output_type": "execute_result"
    }
   ],
   "source": [
    "df_1.head()"
   ]
  },
  {
   "cell_type": "code",
   "execution_count": 22,
   "metadata": {
    "scrolled": true
   },
   "outputs": [
    {
     "data": {
      "text/plain": [
       "RangeIndex(start=0, stop=846404, step=1)"
      ]
     },
     "execution_count": 22,
     "metadata": {},
     "output_type": "execute_result"
    }
   ],
   "source": [
    "df_1.index"
   ]
  },
  {
   "cell_type": "code",
   "execution_count": 23,
   "metadata": {},
   "outputs": [],
   "source": [
    "df_1 = df_1.sort_index(ascending=True, axis=0)"
   ]
  },
  {
   "cell_type": "code",
   "execution_count": 24,
   "metadata": {},
   "outputs": [
    {
     "data": {
      "text/html": [
       "<div>\n",
       "<style scoped>\n",
       "    .dataframe tbody tr th:only-of-type {\n",
       "        vertical-align: middle;\n",
       "    }\n",
       "\n",
       "    .dataframe tbody tr th {\n",
       "        vertical-align: top;\n",
       "    }\n",
       "\n",
       "    .dataframe thead th {\n",
       "        text-align: right;\n",
       "    }\n",
       "</style>\n",
       "<table border=\"1\" class=\"dataframe\">\n",
       "  <thead>\n",
       "    <tr style=\"text-align: right;\">\n",
       "      <th></th>\n",
       "      <th>SYMBOL</th>\n",
       "      <th>OPEN</th>\n",
       "      <th>HIGH</th>\n",
       "      <th>LOW</th>\n",
       "      <th>CLOSE</th>\n",
       "      <th>LAST</th>\n",
       "      <th>PREVCLOSE</th>\n",
       "      <th>TOTTRDQTY</th>\n",
       "      <th>TOTTRDVAL</th>\n",
       "      <th>TIMESTAMP</th>\n",
       "      <th>TOTALTRADES</th>\n",
       "      <th>ISIN</th>\n",
       "      <th>TIME_STAMP</th>\n",
       "    </tr>\n",
       "  </thead>\n",
       "  <tbody>\n",
       "    <tr>\n",
       "      <th>0</th>\n",
       "      <td>20MICRONS</td>\n",
       "      <td>37.80</td>\n",
       "      <td>37.80</td>\n",
       "      <td>36.15</td>\n",
       "      <td>36.85</td>\n",
       "      <td>37.40</td>\n",
       "      <td>37.05</td>\n",
       "      <td>27130</td>\n",
       "      <td>994657.90</td>\n",
       "      <td>2017-06-28</td>\n",
       "      <td>202</td>\n",
       "      <td>INE144J01027</td>\n",
       "      <td>2017-06-28</td>\n",
       "    </tr>\n",
       "    <tr>\n",
       "      <th>1</th>\n",
       "      <td>3IINFOTECH</td>\n",
       "      <td>4.10</td>\n",
       "      <td>4.85</td>\n",
       "      <td>4.00</td>\n",
       "      <td>4.55</td>\n",
       "      <td>4.65</td>\n",
       "      <td>4.05</td>\n",
       "      <td>20157058</td>\n",
       "      <td>92148517.65</td>\n",
       "      <td>2017-06-28</td>\n",
       "      <td>7353</td>\n",
       "      <td>INE748C01020</td>\n",
       "      <td>2017-06-28</td>\n",
       "    </tr>\n",
       "    <tr>\n",
       "      <th>2</th>\n",
       "      <td>3MINDIA</td>\n",
       "      <td>13425.15</td>\n",
       "      <td>13469.55</td>\n",
       "      <td>12920.00</td>\n",
       "      <td>13266.70</td>\n",
       "      <td>13300.00</td>\n",
       "      <td>13460.55</td>\n",
       "      <td>2290</td>\n",
       "      <td>30304923.35</td>\n",
       "      <td>2017-06-28</td>\n",
       "      <td>748</td>\n",
       "      <td>INE470A01017</td>\n",
       "      <td>2017-06-28</td>\n",
       "    </tr>\n",
       "    <tr>\n",
       "      <th>3</th>\n",
       "      <td>63MOONS</td>\n",
       "      <td>61.00</td>\n",
       "      <td>61.90</td>\n",
       "      <td>60.35</td>\n",
       "      <td>61.00</td>\n",
       "      <td>61.10</td>\n",
       "      <td>60.65</td>\n",
       "      <td>27701</td>\n",
       "      <td>1689421.00</td>\n",
       "      <td>2017-06-28</td>\n",
       "      <td>437</td>\n",
       "      <td>INE111B01023</td>\n",
       "      <td>2017-06-28</td>\n",
       "    </tr>\n",
       "    <tr>\n",
       "      <th>4</th>\n",
       "      <td>8KMILES</td>\n",
       "      <td>546.10</td>\n",
       "      <td>548.00</td>\n",
       "      <td>535.00</td>\n",
       "      <td>537.45</td>\n",
       "      <td>535.20</td>\n",
       "      <td>547.45</td>\n",
       "      <td>79722</td>\n",
       "      <td>43208620.05</td>\n",
       "      <td>2017-06-28</td>\n",
       "      <td>1866</td>\n",
       "      <td>INE650K01021</td>\n",
       "      <td>2017-06-28</td>\n",
       "    </tr>\n",
       "  </tbody>\n",
       "</table>\n",
       "</div>"
      ],
      "text/plain": [
       "       SYMBOL      OPEN      HIGH       LOW     CLOSE      LAST  PREVCLOSE  \\\n",
       "0   20MICRONS     37.80     37.80     36.15     36.85     37.40      37.05   \n",
       "1  3IINFOTECH      4.10      4.85      4.00      4.55      4.65       4.05   \n",
       "2     3MINDIA  13425.15  13469.55  12920.00  13266.70  13300.00   13460.55   \n",
       "3     63MOONS     61.00     61.90     60.35     61.00     61.10      60.65   \n",
       "4     8KMILES    546.10    548.00    535.00    537.45    535.20     547.45   \n",
       "\n",
       "   TOTTRDQTY    TOTTRDVAL   TIMESTAMP  TOTALTRADES          ISIN TIME_STAMP  \n",
       "0      27130    994657.90  2017-06-28          202  INE144J01027 2017-06-28  \n",
       "1   20157058  92148517.65  2017-06-28         7353  INE748C01020 2017-06-28  \n",
       "2       2290  30304923.35  2017-06-28          748  INE470A01017 2017-06-28  \n",
       "3      27701   1689421.00  2017-06-28          437  INE111B01023 2017-06-28  \n",
       "4      79722  43208620.05  2017-06-28         1866  INE650K01021 2017-06-28  "
      ]
     },
     "execution_count": 24,
     "metadata": {},
     "output_type": "execute_result"
    }
   ],
   "source": [
    "df_1.head()"
   ]
  },
  {
   "cell_type": "code",
   "execution_count": 25,
   "metadata": {},
   "outputs": [],
   "source": [
    "df_2 = df_1.drop(columns=['TIMESTAMP'], axis=1)"
   ]
  },
  {
   "cell_type": "code",
   "execution_count": 26,
   "metadata": {},
   "outputs": [
    {
     "data": {
      "text/html": [
       "<div>\n",
       "<style scoped>\n",
       "    .dataframe tbody tr th:only-of-type {\n",
       "        vertical-align: middle;\n",
       "    }\n",
       "\n",
       "    .dataframe tbody tr th {\n",
       "        vertical-align: top;\n",
       "    }\n",
       "\n",
       "    .dataframe thead th {\n",
       "        text-align: right;\n",
       "    }\n",
       "</style>\n",
       "<table border=\"1\" class=\"dataframe\">\n",
       "  <thead>\n",
       "    <tr style=\"text-align: right;\">\n",
       "      <th></th>\n",
       "      <th>SYMBOL</th>\n",
       "      <th>OPEN</th>\n",
       "      <th>HIGH</th>\n",
       "      <th>LOW</th>\n",
       "      <th>CLOSE</th>\n",
       "      <th>LAST</th>\n",
       "      <th>PREVCLOSE</th>\n",
       "      <th>TOTTRDQTY</th>\n",
       "      <th>TOTTRDVAL</th>\n",
       "      <th>TOTALTRADES</th>\n",
       "      <th>ISIN</th>\n",
       "      <th>TIME_STAMP</th>\n",
       "    </tr>\n",
       "  </thead>\n",
       "  <tbody>\n",
       "    <tr>\n",
       "      <th>0</th>\n",
       "      <td>20MICRONS</td>\n",
       "      <td>37.80</td>\n",
       "      <td>37.80</td>\n",
       "      <td>36.15</td>\n",
       "      <td>36.85</td>\n",
       "      <td>37.40</td>\n",
       "      <td>37.05</td>\n",
       "      <td>27130</td>\n",
       "      <td>994657.90</td>\n",
       "      <td>202</td>\n",
       "      <td>INE144J01027</td>\n",
       "      <td>2017-06-28</td>\n",
       "    </tr>\n",
       "    <tr>\n",
       "      <th>1</th>\n",
       "      <td>3IINFOTECH</td>\n",
       "      <td>4.10</td>\n",
       "      <td>4.85</td>\n",
       "      <td>4.00</td>\n",
       "      <td>4.55</td>\n",
       "      <td>4.65</td>\n",
       "      <td>4.05</td>\n",
       "      <td>20157058</td>\n",
       "      <td>92148517.65</td>\n",
       "      <td>7353</td>\n",
       "      <td>INE748C01020</td>\n",
       "      <td>2017-06-28</td>\n",
       "    </tr>\n",
       "    <tr>\n",
       "      <th>2</th>\n",
       "      <td>3MINDIA</td>\n",
       "      <td>13425.15</td>\n",
       "      <td>13469.55</td>\n",
       "      <td>12920.00</td>\n",
       "      <td>13266.70</td>\n",
       "      <td>13300.00</td>\n",
       "      <td>13460.55</td>\n",
       "      <td>2290</td>\n",
       "      <td>30304923.35</td>\n",
       "      <td>748</td>\n",
       "      <td>INE470A01017</td>\n",
       "      <td>2017-06-28</td>\n",
       "    </tr>\n",
       "    <tr>\n",
       "      <th>3</th>\n",
       "      <td>63MOONS</td>\n",
       "      <td>61.00</td>\n",
       "      <td>61.90</td>\n",
       "      <td>60.35</td>\n",
       "      <td>61.00</td>\n",
       "      <td>61.10</td>\n",
       "      <td>60.65</td>\n",
       "      <td>27701</td>\n",
       "      <td>1689421.00</td>\n",
       "      <td>437</td>\n",
       "      <td>INE111B01023</td>\n",
       "      <td>2017-06-28</td>\n",
       "    </tr>\n",
       "    <tr>\n",
       "      <th>4</th>\n",
       "      <td>8KMILES</td>\n",
       "      <td>546.10</td>\n",
       "      <td>548.00</td>\n",
       "      <td>535.00</td>\n",
       "      <td>537.45</td>\n",
       "      <td>535.20</td>\n",
       "      <td>547.45</td>\n",
       "      <td>79722</td>\n",
       "      <td>43208620.05</td>\n",
       "      <td>1866</td>\n",
       "      <td>INE650K01021</td>\n",
       "      <td>2017-06-28</td>\n",
       "    </tr>\n",
       "  </tbody>\n",
       "</table>\n",
       "</div>"
      ],
      "text/plain": [
       "       SYMBOL      OPEN      HIGH       LOW     CLOSE      LAST  PREVCLOSE  \\\n",
       "0   20MICRONS     37.80     37.80     36.15     36.85     37.40      37.05   \n",
       "1  3IINFOTECH      4.10      4.85      4.00      4.55      4.65       4.05   \n",
       "2     3MINDIA  13425.15  13469.55  12920.00  13266.70  13300.00   13460.55   \n",
       "3     63MOONS     61.00     61.90     60.35     61.00     61.10      60.65   \n",
       "4     8KMILES    546.10    548.00    535.00    537.45    535.20     547.45   \n",
       "\n",
       "   TOTTRDQTY    TOTTRDVAL  TOTALTRADES          ISIN TIME_STAMP  \n",
       "0      27130    994657.90          202  INE144J01027 2017-06-28  \n",
       "1   20157058  92148517.65         7353  INE748C01020 2017-06-28  \n",
       "2       2290  30304923.35          748  INE470A01017 2017-06-28  \n",
       "3      27701   1689421.00          437  INE111B01023 2017-06-28  \n",
       "4      79722  43208620.05         1866  INE650K01021 2017-06-28  "
      ]
     },
     "execution_count": 26,
     "metadata": {},
     "output_type": "execute_result"
    }
   ],
   "source": [
    "df_2.head()"
   ]
  },
  {
   "cell_type": "code",
   "execution_count": 27,
   "metadata": {},
   "outputs": [],
   "source": [
    "df_rsme = df_2.filter(['TIME_STAMP', 'CLOSE'], axis=1)"
   ]
  },
  {
   "cell_type": "code",
   "execution_count": 28,
   "metadata": {},
   "outputs": [
    {
     "data": {
      "text/html": [
       "<div>\n",
       "<style scoped>\n",
       "    .dataframe tbody tr th:only-of-type {\n",
       "        vertical-align: middle;\n",
       "    }\n",
       "\n",
       "    .dataframe tbody tr th {\n",
       "        vertical-align: top;\n",
       "    }\n",
       "\n",
       "    .dataframe thead th {\n",
       "        text-align: right;\n",
       "    }\n",
       "</style>\n",
       "<table border=\"1\" class=\"dataframe\">\n",
       "  <thead>\n",
       "    <tr style=\"text-align: right;\">\n",
       "      <th></th>\n",
       "      <th>TIME_STAMP</th>\n",
       "      <th>CLOSE</th>\n",
       "    </tr>\n",
       "  </thead>\n",
       "  <tbody>\n",
       "    <tr>\n",
       "      <th>0</th>\n",
       "      <td>2017-06-28</td>\n",
       "      <td>36.85</td>\n",
       "    </tr>\n",
       "    <tr>\n",
       "      <th>1</th>\n",
       "      <td>2017-06-28</td>\n",
       "      <td>4.55</td>\n",
       "    </tr>\n",
       "    <tr>\n",
       "      <th>2</th>\n",
       "      <td>2017-06-28</td>\n",
       "      <td>13266.70</td>\n",
       "    </tr>\n",
       "    <tr>\n",
       "      <th>3</th>\n",
       "      <td>2017-06-28</td>\n",
       "      <td>61.00</td>\n",
       "    </tr>\n",
       "    <tr>\n",
       "      <th>4</th>\n",
       "      <td>2017-06-28</td>\n",
       "      <td>537.45</td>\n",
       "    </tr>\n",
       "  </tbody>\n",
       "</table>\n",
       "</div>"
      ],
      "text/plain": [
       "  TIME_STAMP     CLOSE\n",
       "0 2017-06-28     36.85\n",
       "1 2017-06-28      4.55\n",
       "2 2017-06-28  13266.70\n",
       "3 2017-06-28     61.00\n",
       "4 2017-06-28    537.45"
      ]
     },
     "execution_count": 28,
     "metadata": {},
     "output_type": "execute_result"
    }
   ],
   "source": [
    "df_rsme.head()"
   ]
  },
  {
   "cell_type": "code",
   "execution_count": 29,
   "metadata": {},
   "outputs": [],
   "source": [
    "df_rsme.sort_values(by=['TIME_STAMP'], inplace=True)"
   ]
  },
  {
   "cell_type": "code",
   "execution_count": 30,
   "metadata": {},
   "outputs": [
    {
     "data": {
      "text/html": [
       "<div>\n",
       "<style scoped>\n",
       "    .dataframe tbody tr th:only-of-type {\n",
       "        vertical-align: middle;\n",
       "    }\n",
       "\n",
       "    .dataframe tbody tr th {\n",
       "        vertical-align: top;\n",
       "    }\n",
       "\n",
       "    .dataframe thead th {\n",
       "        text-align: right;\n",
       "    }\n",
       "</style>\n",
       "<table border=\"1\" class=\"dataframe\">\n",
       "  <thead>\n",
       "    <tr style=\"text-align: right;\">\n",
       "      <th></th>\n",
       "      <th>TIME_STAMP</th>\n",
       "      <th>CLOSE</th>\n",
       "    </tr>\n",
       "  </thead>\n",
       "  <tbody>\n",
       "    <tr>\n",
       "      <th>648190</th>\n",
       "      <td>2016-01-01</td>\n",
       "      <td>34.05</td>\n",
       "    </tr>\n",
       "    <tr>\n",
       "      <th>648030</th>\n",
       "      <td>2016-01-01</td>\n",
       "      <td>20.10</td>\n",
       "    </tr>\n",
       "    <tr>\n",
       "      <th>648031</th>\n",
       "      <td>2016-01-01</td>\n",
       "      <td>2276.55</td>\n",
       "    </tr>\n",
       "    <tr>\n",
       "      <th>648032</th>\n",
       "      <td>2016-01-01</td>\n",
       "      <td>4.95</td>\n",
       "    </tr>\n",
       "    <tr>\n",
       "      <th>648033</th>\n",
       "      <td>2016-01-01</td>\n",
       "      <td>103.65</td>\n",
       "    </tr>\n",
       "  </tbody>\n",
       "</table>\n",
       "</div>"
      ],
      "text/plain": [
       "       TIME_STAMP    CLOSE\n",
       "648190 2016-01-01    34.05\n",
       "648030 2016-01-01    20.10\n",
       "648031 2016-01-01  2276.55\n",
       "648032 2016-01-01     4.95\n",
       "648033 2016-01-01   103.65"
      ]
     },
     "execution_count": 30,
     "metadata": {},
     "output_type": "execute_result"
    }
   ],
   "source": [
    "df_rsme.head()"
   ]
  },
  {
   "cell_type": "code",
   "execution_count": 31,
   "metadata": {},
   "outputs": [],
   "source": [
    "df_rsme = df_rsme.reset_index(drop=True)"
   ]
  },
  {
   "cell_type": "code",
   "execution_count": 32,
   "metadata": {},
   "outputs": [
    {
     "data": {
      "text/html": [
       "<div>\n",
       "<style scoped>\n",
       "    .dataframe tbody tr th:only-of-type {\n",
       "        vertical-align: middle;\n",
       "    }\n",
       "\n",
       "    .dataframe tbody tr th {\n",
       "        vertical-align: top;\n",
       "    }\n",
       "\n",
       "    .dataframe thead th {\n",
       "        text-align: right;\n",
       "    }\n",
       "</style>\n",
       "<table border=\"1\" class=\"dataframe\">\n",
       "  <thead>\n",
       "    <tr style=\"text-align: right;\">\n",
       "      <th></th>\n",
       "      <th>TIME_STAMP</th>\n",
       "      <th>CLOSE</th>\n",
       "    </tr>\n",
       "  </thead>\n",
       "  <tbody>\n",
       "    <tr>\n",
       "      <th>0</th>\n",
       "      <td>2016-01-01</td>\n",
       "      <td>34.05</td>\n",
       "    </tr>\n",
       "    <tr>\n",
       "      <th>1</th>\n",
       "      <td>2016-01-01</td>\n",
       "      <td>20.10</td>\n",
       "    </tr>\n",
       "    <tr>\n",
       "      <th>2</th>\n",
       "      <td>2016-01-01</td>\n",
       "      <td>2276.55</td>\n",
       "    </tr>\n",
       "    <tr>\n",
       "      <th>3</th>\n",
       "      <td>2016-01-01</td>\n",
       "      <td>4.95</td>\n",
       "    </tr>\n",
       "    <tr>\n",
       "      <th>4</th>\n",
       "      <td>2016-01-01</td>\n",
       "      <td>103.65</td>\n",
       "    </tr>\n",
       "  </tbody>\n",
       "</table>\n",
       "</div>"
      ],
      "text/plain": [
       "  TIME_STAMP    CLOSE\n",
       "0 2016-01-01    34.05\n",
       "1 2016-01-01    20.10\n",
       "2 2016-01-01  2276.55\n",
       "3 2016-01-01     4.95\n",
       "4 2016-01-01   103.65"
      ]
     },
     "execution_count": 32,
     "metadata": {},
     "output_type": "execute_result"
    }
   ],
   "source": [
    "df_rsme.head()"
   ]
  },
  {
   "cell_type": "code",
   "execution_count": 33,
   "metadata": {},
   "outputs": [
    {
     "data": {
      "text/plain": [
       "846404"
      ]
     },
     "execution_count": 33,
     "metadata": {},
     "output_type": "execute_result"
    }
   ],
   "source": [
    "len(df_rsme)"
   ]
  },
  {
   "cell_type": "code",
   "execution_count": 34,
   "metadata": {},
   "outputs": [],
   "source": [
    "X_train = df_rsme[:746404]\n",
    "X_test = df_rsme[746404:]"
   ]
  },
  {
   "cell_type": "code",
   "execution_count": 35,
   "metadata": {},
   "outputs": [
    {
     "data": {
      "text/html": [
       "<div>\n",
       "<style scoped>\n",
       "    .dataframe tbody tr th:only-of-type {\n",
       "        vertical-align: middle;\n",
       "    }\n",
       "\n",
       "    .dataframe tbody tr th {\n",
       "        vertical-align: top;\n",
       "    }\n",
       "\n",
       "    .dataframe thead th {\n",
       "        text-align: right;\n",
       "    }\n",
       "</style>\n",
       "<table border=\"1\" class=\"dataframe\">\n",
       "  <thead>\n",
       "    <tr style=\"text-align: right;\">\n",
       "      <th></th>\n",
       "      <th>TIME_STAMP</th>\n",
       "      <th>CLOSE</th>\n",
       "    </tr>\n",
       "  </thead>\n",
       "  <tbody>\n",
       "    <tr>\n",
       "      <th>0</th>\n",
       "      <td>2016-01-01</td>\n",
       "      <td>34.05</td>\n",
       "    </tr>\n",
       "    <tr>\n",
       "      <th>1</th>\n",
       "      <td>2016-01-01</td>\n",
       "      <td>20.10</td>\n",
       "    </tr>\n",
       "    <tr>\n",
       "      <th>2</th>\n",
       "      <td>2016-01-01</td>\n",
       "      <td>2276.55</td>\n",
       "    </tr>\n",
       "    <tr>\n",
       "      <th>3</th>\n",
       "      <td>2016-01-01</td>\n",
       "      <td>4.95</td>\n",
       "    </tr>\n",
       "    <tr>\n",
       "      <th>4</th>\n",
       "      <td>2016-01-01</td>\n",
       "      <td>103.65</td>\n",
       "    </tr>\n",
       "  </tbody>\n",
       "</table>\n",
       "</div>"
      ],
      "text/plain": [
       "  TIME_STAMP    CLOSE\n",
       "0 2016-01-01    34.05\n",
       "1 2016-01-01    20.10\n",
       "2 2016-01-01  2276.55\n",
       "3 2016-01-01     4.95\n",
       "4 2016-01-01   103.65"
      ]
     },
     "execution_count": 35,
     "metadata": {},
     "output_type": "execute_result"
    }
   ],
   "source": [
    "X_train.head()"
   ]
  },
  {
   "cell_type": "code",
   "execution_count": 36,
   "metadata": {
    "scrolled": true
   },
   "outputs": [
    {
     "name": "stdout",
     "output_type": "stream",
     "text": [
      "646404\n"
     ]
    }
   ],
   "source": [
    "values = []\n",
    "filter_idx = len(X_train)-len(X_test)\n",
    "print(filter_idx)"
   ]
  },
  {
   "cell_type": "code",
   "execution_count": 37,
   "metadata": {},
   "outputs": [],
   "source": [
    "for row in range(0, len(X_test)):\n",
    "    summation = X_train['CLOSE'][filter_idx+row:].sum() + sum(values)\n",
    "    mean = summation/len(X_test)\n",
    "    values.append(mean)"
   ]
  },
  {
   "cell_type": "code",
   "execution_count": 38,
   "metadata": {},
   "outputs": [],
   "source": [
    "def rmse(df, predictions):\n",
    "    '''\n",
    "    Predictions: A list of values\n",
    "    '''\n",
    "    # Subtract the values from df column with predicted values from training set and calculate power.\n",
    "    diff = np.power((np.array(df['CLOSE'])-predictions),2)\n",
    "    # Calculate mean\n",
    "    avg = np.mean(diff)\n",
    "    # Calculate square root\n",
    "    sqrt = np.sqrt(avg)\n",
    "    \n",
    "    return sqrt"
   ]
  },
  {
   "cell_type": "code",
   "execution_count": 39,
   "metadata": {
    "scrolled": false
   },
   "outputs": [
    {
     "name": "stdout",
     "output_type": "stream",
     "text": [
      "630.7799969662882\n",
      "626.7603708118437\n",
      "100000\n"
     ]
    }
   ],
   "source": [
    "print(max(values))\n",
    "print(min(values))\n",
    "print(len(values))"
   ]
  },
  {
   "cell_type": "code",
   "execution_count": 40,
   "metadata": {},
   "outputs": [],
   "source": [
    "rmse_value = rmse(X_test, values)"
   ]
  },
  {
   "cell_type": "code",
   "execution_count": 41,
   "metadata": {},
   "outputs": [
    {
     "data": {
      "text/plain": [
       "2732.403846893084"
      ]
     },
     "execution_count": 41,
     "metadata": {},
     "output_type": "execute_result"
    }
   ],
   "source": [
    "rmse_value"
   ]
  },
  {
   "cell_type": "code",
   "execution_count": 42,
   "metadata": {},
   "outputs": [
    {
     "name": "stderr",
     "output_type": "stream",
     "text": [
      "c:\\users\\biju\\.conda\\envs\\py363\\lib\\site-packages\\ipykernel_launcher.py:1: SettingWithCopyWarning: \n",
      "A value is trying to be set on a copy of a slice from a DataFrame.\n",
      "Try using .loc[row_indexer,col_indexer] = value instead\n",
      "\n",
      "See the caveats in the documentation: http://pandas.pydata.org/pandas-docs/stable/user_guide/indexing.html#returning-a-view-versus-a-copy\n",
      "  \"\"\"Entry point for launching an IPython kernel.\n"
     ]
    }
   ],
   "source": [
    "X_test['pred_values'] = values"
   ]
  },
  {
   "cell_type": "code",
   "execution_count": 43,
   "metadata": {},
   "outputs": [
    {
     "data": {
      "text/html": [
       "<div>\n",
       "<style scoped>\n",
       "    .dataframe tbody tr th:only-of-type {\n",
       "        vertical-align: middle;\n",
       "    }\n",
       "\n",
       "    .dataframe tbody tr th {\n",
       "        vertical-align: top;\n",
       "    }\n",
       "\n",
       "    .dataframe thead th {\n",
       "        text-align: right;\n",
       "    }\n",
       "</style>\n",
       "<table border=\"1\" class=\"dataframe\">\n",
       "  <thead>\n",
       "    <tr style=\"text-align: right;\">\n",
       "      <th></th>\n",
       "      <th>TIME_STAMP</th>\n",
       "      <th>CLOSE</th>\n",
       "      <th>pred_values</th>\n",
       "    </tr>\n",
       "  </thead>\n",
       "  <tbody>\n",
       "    <tr>\n",
       "      <th>746404</th>\n",
       "      <td>2017-10-11</td>\n",
       "      <td>48.75</td>\n",
       "      <td>627.605524</td>\n",
       "    </tr>\n",
       "    <tr>\n",
       "      <th>746405</th>\n",
       "      <td>2017-10-11</td>\n",
       "      <td>588.40</td>\n",
       "      <td>627.610945</td>\n",
       "    </tr>\n",
       "    <tr>\n",
       "      <th>746406</th>\n",
       "      <td>2017-10-11</td>\n",
       "      <td>482.70</td>\n",
       "      <td>627.617172</td>\n",
       "    </tr>\n",
       "    <tr>\n",
       "      <th>746407</th>\n",
       "      <td>2017-10-11</td>\n",
       "      <td>1055.00</td>\n",
       "      <td>627.623412</td>\n",
       "    </tr>\n",
       "    <tr>\n",
       "      <th>746408</th>\n",
       "      <td>2017-10-11</td>\n",
       "      <td>1825.00</td>\n",
       "      <td>627.629515</td>\n",
       "    </tr>\n",
       "    <tr>\n",
       "      <th>...</th>\n",
       "      <td>...</td>\n",
       "      <td>...</td>\n",
       "      <td>...</td>\n",
       "    </tr>\n",
       "    <tr>\n",
       "      <th>846399</th>\n",
       "      <td>2017-12-29</td>\n",
       "      <td>148.00</td>\n",
       "      <td>628.588863</td>\n",
       "    </tr>\n",
       "    <tr>\n",
       "      <th>846400</th>\n",
       "      <td>2017-12-29</td>\n",
       "      <td>153.10</td>\n",
       "      <td>628.587700</td>\n",
       "    </tr>\n",
       "    <tr>\n",
       "      <th>846401</th>\n",
       "      <td>2017-12-29</td>\n",
       "      <td>2336.35</td>\n",
       "      <td>628.593068</td>\n",
       "    </tr>\n",
       "    <tr>\n",
       "      <th>846402</th>\n",
       "      <td>2017-12-29</td>\n",
       "      <td>65.55</td>\n",
       "      <td>628.597064</td>\n",
       "    </tr>\n",
       "    <tr>\n",
       "      <th>846403</th>\n",
       "      <td>2017-12-29</td>\n",
       "      <td>4.65</td>\n",
       "      <td>628.602064</td>\n",
       "    </tr>\n",
       "  </tbody>\n",
       "</table>\n",
       "<p>100000 rows × 3 columns</p>\n",
       "</div>"
      ],
      "text/plain": [
       "       TIME_STAMP    CLOSE  pred_values\n",
       "746404 2017-10-11    48.75   627.605524\n",
       "746405 2017-10-11   588.40   627.610945\n",
       "746406 2017-10-11   482.70   627.617172\n",
       "746407 2017-10-11  1055.00   627.623412\n",
       "746408 2017-10-11  1825.00   627.629515\n",
       "...           ...      ...          ...\n",
       "846399 2017-12-29   148.00   628.588863\n",
       "846400 2017-12-29   153.10   628.587700\n",
       "846401 2017-12-29  2336.35   628.593068\n",
       "846402 2017-12-29    65.55   628.597064\n",
       "846403 2017-12-29     4.65   628.602064\n",
       "\n",
       "[100000 rows x 3 columns]"
      ]
     },
     "execution_count": 43,
     "metadata": {},
     "output_type": "execute_result"
    }
   ],
   "source": [
    "X_test"
   ]
  },
  {
   "cell_type": "code",
   "execution_count": 44,
   "metadata": {},
   "outputs": [
    {
     "data": {
      "text/html": [
       "<div>\n",
       "<style scoped>\n",
       "    .dataframe tbody tr th:only-of-type {\n",
       "        vertical-align: middle;\n",
       "    }\n",
       "\n",
       "    .dataframe tbody tr th {\n",
       "        vertical-align: top;\n",
       "    }\n",
       "\n",
       "    .dataframe thead th {\n",
       "        text-align: right;\n",
       "    }\n",
       "</style>\n",
       "<table border=\"1\" class=\"dataframe\">\n",
       "  <thead>\n",
       "    <tr style=\"text-align: right;\">\n",
       "      <th></th>\n",
       "      <th>TIME_STAMP</th>\n",
       "      <th>CLOSE</th>\n",
       "      <th>pred_values</th>\n",
       "    </tr>\n",
       "  </thead>\n",
       "  <tbody>\n",
       "    <tr>\n",
       "      <th>0</th>\n",
       "      <td>2017-10-11</td>\n",
       "      <td>48.75</td>\n",
       "      <td>627.605524</td>\n",
       "    </tr>\n",
       "    <tr>\n",
       "      <th>1</th>\n",
       "      <td>2017-10-11</td>\n",
       "      <td>588.40</td>\n",
       "      <td>627.610945</td>\n",
       "    </tr>\n",
       "    <tr>\n",
       "      <th>2</th>\n",
       "      <td>2017-10-11</td>\n",
       "      <td>482.70</td>\n",
       "      <td>627.617172</td>\n",
       "    </tr>\n",
       "    <tr>\n",
       "      <th>3</th>\n",
       "      <td>2017-10-11</td>\n",
       "      <td>1055.00</td>\n",
       "      <td>627.623412</td>\n",
       "    </tr>\n",
       "    <tr>\n",
       "      <th>4</th>\n",
       "      <td>2017-10-11</td>\n",
       "      <td>1825.00</td>\n",
       "      <td>627.629515</td>\n",
       "    </tr>\n",
       "  </tbody>\n",
       "</table>\n",
       "</div>"
      ],
      "text/plain": [
       "  TIME_STAMP    CLOSE  pred_values\n",
       "0 2017-10-11    48.75   627.605524\n",
       "1 2017-10-11   588.40   627.610945\n",
       "2 2017-10-11   482.70   627.617172\n",
       "3 2017-10-11  1055.00   627.623412\n",
       "4 2017-10-11  1825.00   627.629515"
      ]
     },
     "execution_count": 44,
     "metadata": {},
     "output_type": "execute_result"
    }
   ],
   "source": [
    "X_test = X_test.reset_index(drop=True)\n",
    "X_test.head()"
   ]
  },
  {
   "cell_type": "code",
   "execution_count": 46,
   "metadata": {},
   "outputs": [
    {
     "data": {
      "text/html": [
       "<div>\n",
       "<style scoped>\n",
       "    .dataframe tbody tr th:only-of-type {\n",
       "        vertical-align: middle;\n",
       "    }\n",
       "\n",
       "    .dataframe tbody tr th {\n",
       "        vertical-align: top;\n",
       "    }\n",
       "\n",
       "    .dataframe thead th {\n",
       "        text-align: right;\n",
       "    }\n",
       "</style>\n",
       "<table border=\"1\" class=\"dataframe\">\n",
       "  <thead>\n",
       "    <tr style=\"text-align: right;\">\n",
       "      <th></th>\n",
       "      <th>TIME_STAMP</th>\n",
       "      <th>CLOSE</th>\n",
       "    </tr>\n",
       "  </thead>\n",
       "  <tbody>\n",
       "    <tr>\n",
       "      <th>0</th>\n",
       "      <td>2016-01-01</td>\n",
       "      <td>34.05</td>\n",
       "    </tr>\n",
       "    <tr>\n",
       "      <th>1</th>\n",
       "      <td>2016-01-01</td>\n",
       "      <td>20.10</td>\n",
       "    </tr>\n",
       "    <tr>\n",
       "      <th>2</th>\n",
       "      <td>2016-01-01</td>\n",
       "      <td>2276.55</td>\n",
       "    </tr>\n",
       "    <tr>\n",
       "      <th>3</th>\n",
       "      <td>2016-01-01</td>\n",
       "      <td>4.95</td>\n",
       "    </tr>\n",
       "    <tr>\n",
       "      <th>4</th>\n",
       "      <td>2016-01-01</td>\n",
       "      <td>103.65</td>\n",
       "    </tr>\n",
       "  </tbody>\n",
       "</table>\n",
       "</div>"
      ],
      "text/plain": [
       "  TIME_STAMP    CLOSE\n",
       "0 2016-01-01    34.05\n",
       "1 2016-01-01    20.10\n",
       "2 2016-01-01  2276.55\n",
       "3 2016-01-01     4.95\n",
       "4 2016-01-01   103.65"
      ]
     },
     "execution_count": 46,
     "metadata": {},
     "output_type": "execute_result"
    }
   ],
   "source": [
    "X_train = X_train.reset_index(drop=True)\n",
    "X_train.head()"
   ]
  },
  {
   "cell_type": "code",
   "execution_count": 58,
   "metadata": {},
   "outputs": [
    {
     "data": {
      "text/plain": [
       "[<matplotlib.lines.Line2D at 0x210e950a710>,\n",
       " <matplotlib.lines.Line2D at 0x211051cbc18>]"
      ]
     },
     "execution_count": 58,
     "metadata": {},
     "output_type": "execute_result"
    },
    {
     "data": {
      "image/png": "[encoded data removed]",
      "text/plain": [
       "<Figure size 1440x720 with 1 Axes>"
      ]
     },
     "metadata": {},
     "output_type": "display_data"
    }
   ],
   "source": [
    "plt.plot(X_train['CLOSE'])\n",
    "plt.plot(X_test[['CLOSE', 'pred_values']])"
   ]
  },
  {
   "cell_type": "code",
   "execution_count": 60,
   "metadata": {},
   "outputs": [],
   "source": [
    "scale = MinMaxScaler(feature_range=(0,1))"
   ]
  },
  {
   "cell_type": "code",
   "execution_count": 62,
   "metadata": {},
   "outputs": [
    {
     "data": {
      "text/html": [
       "<div>\n",
       "<style scoped>\n",
       "    .dataframe tbody tr th:only-of-type {\n",
       "        vertical-align: middle;\n",
       "    }\n",
       "\n",
       "    .dataframe tbody tr th {\n",
       "        vertical-align: top;\n",
       "    }\n",
       "\n",
       "    .dataframe thead th {\n",
       "        text-align: right;\n",
       "    }\n",
       "</style>\n",
       "<table border=\"1\" class=\"dataframe\">\n",
       "  <thead>\n",
       "    <tr style=\"text-align: right;\">\n",
       "      <th></th>\n",
       "      <th>TIME_STAMP</th>\n",
       "      <th>CLOSE</th>\n",
       "    </tr>\n",
       "  </thead>\n",
       "  <tbody>\n",
       "    <tr>\n",
       "      <th>0</th>\n",
       "      <td>2016-01-01</td>\n",
       "      <td>34.05</td>\n",
       "    </tr>\n",
       "    <tr>\n",
       "      <th>1</th>\n",
       "      <td>2016-01-01</td>\n",
       "      <td>20.10</td>\n",
       "    </tr>\n",
       "    <tr>\n",
       "      <th>2</th>\n",
       "      <td>2016-01-01</td>\n",
       "      <td>2276.55</td>\n",
       "    </tr>\n",
       "    <tr>\n",
       "      <th>3</th>\n",
       "      <td>2016-01-01</td>\n",
       "      <td>4.95</td>\n",
       "    </tr>\n",
       "    <tr>\n",
       "      <th>4</th>\n",
       "      <td>2016-01-01</td>\n",
       "      <td>103.65</td>\n",
       "    </tr>\n",
       "    <tr>\n",
       "      <th>...</th>\n",
       "      <td>...</td>\n",
       "      <td>...</td>\n",
       "    </tr>\n",
       "    <tr>\n",
       "      <th>746399</th>\n",
       "      <td>2017-10-11</td>\n",
       "      <td>744.85</td>\n",
       "    </tr>\n",
       "    <tr>\n",
       "      <th>746400</th>\n",
       "      <td>2017-10-11</td>\n",
       "      <td>91.85</td>\n",
       "    </tr>\n",
       "    <tr>\n",
       "      <th>746401</th>\n",
       "      <td>2017-10-11</td>\n",
       "      <td>229.00</td>\n",
       "    </tr>\n",
       "    <tr>\n",
       "      <th>746402</th>\n",
       "      <td>2017-10-11</td>\n",
       "      <td>128.60</td>\n",
       "    </tr>\n",
       "    <tr>\n",
       "      <th>746403</th>\n",
       "      <td>2017-10-11</td>\n",
       "      <td>273.65</td>\n",
       "    </tr>\n",
       "  </tbody>\n",
       "</table>\n",
       "<p>746404 rows × 2 columns</p>\n",
       "</div>"
      ],
      "text/plain": [
       "       TIME_STAMP    CLOSE\n",
       "0      2016-01-01    34.05\n",
       "1      2016-01-01    20.10\n",
       "2      2016-01-01  2276.55\n",
       "3      2016-01-01     4.95\n",
       "4      2016-01-01   103.65\n",
       "...           ...      ...\n",
       "746399 2017-10-11   744.85\n",
       "746400 2017-10-11    91.85\n",
       "746401 2017-10-11   229.00\n",
       "746402 2017-10-11   128.60\n",
       "746403 2017-10-11   273.65\n",
       "\n",
       "[746404 rows x 2 columns]"
      ]
     },
     "execution_count": 62,
     "metadata": {},
     "output_type": "execute_result"
    }
   ],
   "source": [
    "X_train"
   ]
  },
  {
   "cell_type": "code",
   "execution_count": 64,
   "metadata": {},
   "outputs": [],
   "source": [
    "df_knn = df_1.drop(columns=['TIMESTAMP', 'TIME_STAMP', 'ISIN'])"
   ]
  },
  {
   "cell_type": "code",
   "execution_count": 70,
   "metadata": {},
   "outputs": [],
   "source": [
    "df_knn = df_knn.drop(columns=['SYMBOL'])"
   ]
  },
  {
   "cell_type": "code",
   "execution_count": 75,
   "metadata": {},
   "outputs": [
    {
     "data": {
      "text/html": [
       "<div>\n",
       "<style scoped>\n",
       "    .dataframe tbody tr th:only-of-type {\n",
       "        vertical-align: middle;\n",
       "    }\n",
       "\n",
       "    .dataframe tbody tr th {\n",
       "        vertical-align: top;\n",
       "    }\n",
       "\n",
       "    .dataframe thead th {\n",
       "        text-align: right;\n",
       "    }\n",
       "</style>\n",
       "<table border=\"1\" class=\"dataframe\">\n",
       "  <thead>\n",
       "    <tr style=\"text-align: right;\">\n",
       "      <th></th>\n",
       "      <th>OPEN</th>\n",
       "      <th>HIGH</th>\n",
       "      <th>LOW</th>\n",
       "      <th>CLOSE</th>\n",
       "      <th>LAST</th>\n",
       "      <th>PREVCLOSE</th>\n",
       "      <th>TOTTRDQTY</th>\n",
       "      <th>TOTTRDVAL</th>\n",
       "      <th>TOTALTRADES</th>\n",
       "    </tr>\n",
       "  </thead>\n",
       "  <tbody>\n",
       "    <tr>\n",
       "      <th>0</th>\n",
       "      <td>37.80</td>\n",
       "      <td>37.80</td>\n",
       "      <td>36.15</td>\n",
       "      <td>36.85</td>\n",
       "      <td>37.40</td>\n",
       "      <td>37.05</td>\n",
       "      <td>27130</td>\n",
       "      <td>994657.90</td>\n",
       "      <td>202</td>\n",
       "    </tr>\n",
       "    <tr>\n",
       "      <th>1</th>\n",
       "      <td>4.10</td>\n",
       "      <td>4.85</td>\n",
       "      <td>4.00</td>\n",
       "      <td>4.55</td>\n",
       "      <td>4.65</td>\n",
       "      <td>4.05</td>\n",
       "      <td>20157058</td>\n",
       "      <td>92148517.65</td>\n",
       "      <td>7353</td>\n",
       "    </tr>\n",
       "    <tr>\n",
       "      <th>2</th>\n",
       "      <td>13425.15</td>\n",
       "      <td>13469.55</td>\n",
       "      <td>12920.00</td>\n",
       "      <td>13266.70</td>\n",
       "      <td>13300.00</td>\n",
       "      <td>13460.55</td>\n",
       "      <td>2290</td>\n",
       "      <td>30304923.35</td>\n",
       "      <td>748</td>\n",
       "    </tr>\n",
       "    <tr>\n",
       "      <th>3</th>\n",
       "      <td>61.00</td>\n",
       "      <td>61.90</td>\n",
       "      <td>60.35</td>\n",
       "      <td>61.00</td>\n",
       "      <td>61.10</td>\n",
       "      <td>60.65</td>\n",
       "      <td>27701</td>\n",
       "      <td>1689421.00</td>\n",
       "      <td>437</td>\n",
       "    </tr>\n",
       "    <tr>\n",
       "      <th>4</th>\n",
       "      <td>546.10</td>\n",
       "      <td>548.00</td>\n",
       "      <td>535.00</td>\n",
       "      <td>537.45</td>\n",
       "      <td>535.20</td>\n",
       "      <td>547.45</td>\n",
       "      <td>79722</td>\n",
       "      <td>43208620.05</td>\n",
       "      <td>1866</td>\n",
       "    </tr>\n",
       "  </tbody>\n",
       "</table>\n",
       "</div>"
      ],
      "text/plain": [
       "       OPEN      HIGH       LOW     CLOSE      LAST  PREVCLOSE  TOTTRDQTY  \\\n",
       "0     37.80     37.80     36.15     36.85     37.40      37.05      27130   \n",
       "1      4.10      4.85      4.00      4.55      4.65       4.05   20157058   \n",
       "2  13425.15  13469.55  12920.00  13266.70  13300.00   13460.55       2290   \n",
       "3     61.00     61.90     60.35     61.00     61.10      60.65      27701   \n",
       "4    546.10    548.00    535.00    537.45    535.20     547.45      79722   \n",
       "\n",
       "     TOTTRDVAL  TOTALTRADES  \n",
       "0    994657.90          202  \n",
       "1  92148517.65         7353  \n",
       "2  30304923.35          748  \n",
       "3   1689421.00          437  \n",
       "4  43208620.05         1866  "
      ]
     },
     "execution_count": 75,
     "metadata": {},
     "output_type": "execute_result"
    }
   ],
   "source": [
    "df_knn.head()"
   ]
  },
  {
   "cell_type": "code",
   "execution_count": 77,
   "metadata": {},
   "outputs": [],
   "source": [
    "x_data = df_knn.drop(columns=['CLOSE'])"
   ]
  },
  {
   "cell_type": "code",
   "execution_count": 79,
   "metadata": {},
   "outputs": [
    {
     "data": {
      "text/html": [
       "<div>\n",
       "<style scoped>\n",
       "    .dataframe tbody tr th:only-of-type {\n",
       "        vertical-align: middle;\n",
       "    }\n",
       "\n",
       "    .dataframe tbody tr th {\n",
       "        vertical-align: top;\n",
       "    }\n",
       "\n",
       "    .dataframe thead th {\n",
       "        text-align: right;\n",
       "    }\n",
       "</style>\n",
       "<table border=\"1\" class=\"dataframe\">\n",
       "  <thead>\n",
       "    <tr style=\"text-align: right;\">\n",
       "      <th></th>\n",
       "      <th>OPEN</th>\n",
       "      <th>HIGH</th>\n",
       "      <th>LOW</th>\n",
       "      <th>LAST</th>\n",
       "      <th>PREVCLOSE</th>\n",
       "      <th>TOTTRDQTY</th>\n",
       "      <th>TOTTRDVAL</th>\n",
       "      <th>TOTALTRADES</th>\n",
       "    </tr>\n",
       "  </thead>\n",
       "  <tbody>\n",
       "    <tr>\n",
       "      <th>0</th>\n",
       "      <td>37.80</td>\n",
       "      <td>37.80</td>\n",
       "      <td>36.15</td>\n",
       "      <td>37.40</td>\n",
       "      <td>37.05</td>\n",
       "      <td>27130</td>\n",
       "      <td>994657.90</td>\n",
       "      <td>202</td>\n",
       "    </tr>\n",
       "    <tr>\n",
       "      <th>1</th>\n",
       "      <td>4.10</td>\n",
       "      <td>4.85</td>\n",
       "      <td>4.00</td>\n",
       "      <td>4.65</td>\n",
       "      <td>4.05</td>\n",
       "      <td>20157058</td>\n",
       "      <td>92148517.65</td>\n",
       "      <td>7353</td>\n",
       "    </tr>\n",
       "    <tr>\n",
       "      <th>2</th>\n",
       "      <td>13425.15</td>\n",
       "      <td>13469.55</td>\n",
       "      <td>12920.00</td>\n",
       "      <td>13300.00</td>\n",
       "      <td>13460.55</td>\n",
       "      <td>2290</td>\n",
       "      <td>30304923.35</td>\n",
       "      <td>748</td>\n",
       "    </tr>\n",
       "    <tr>\n",
       "      <th>3</th>\n",
       "      <td>61.00</td>\n",
       "      <td>61.90</td>\n",
       "      <td>60.35</td>\n",
       "      <td>61.10</td>\n",
       "      <td>60.65</td>\n",
       "      <td>27701</td>\n",
       "      <td>1689421.00</td>\n",
       "      <td>437</td>\n",
       "    </tr>\n",
       "    <tr>\n",
       "      <th>4</th>\n",
       "      <td>546.10</td>\n",
       "      <td>548.00</td>\n",
       "      <td>535.00</td>\n",
       "      <td>535.20</td>\n",
       "      <td>547.45</td>\n",
       "      <td>79722</td>\n",
       "      <td>43208620.05</td>\n",
       "      <td>1866</td>\n",
       "    </tr>\n",
       "  </tbody>\n",
       "</table>\n",
       "</div>"
      ],
      "text/plain": [
       "       OPEN      HIGH       LOW      LAST  PREVCLOSE  TOTTRDQTY    TOTTRDVAL  \\\n",
       "0     37.80     37.80     36.15     37.40      37.05      27130    994657.90   \n",
       "1      4.10      4.85      4.00      4.65       4.05   20157058  92148517.65   \n",
       "2  13425.15  13469.55  12920.00  13300.00   13460.55       2290  30304923.35   \n",
       "3     61.00     61.90     60.35     61.10      60.65      27701   1689421.00   \n",
       "4    546.10    548.00    535.00    535.20     547.45      79722  43208620.05   \n",
       "\n",
       "   TOTALTRADES  \n",
       "0          202  \n",
       "1         7353  \n",
       "2          748  \n",
       "3          437  \n",
       "4         1866  "
      ]
     },
     "execution_count": 79,
     "metadata": {},
     "output_type": "execute_result"
    }
   ],
   "source": [
    "x_data.head()"
   ]
  },
  {
   "cell_type": "code",
   "execution_count": 88,
   "metadata": {},
   "outputs": [],
   "source": [
    "y_data = df_knn['CLOSE']"
   ]
  },
  {
   "cell_type": "code",
   "execution_count": 92,
   "metadata": {},
   "outputs": [
    {
     "data": {
      "text/plain": [
       "0      36.85\n",
       "1       4.55\n",
       "2    13266.7\n",
       "3         61\n",
       "4     537.45\n",
       "Name: CLOSE, dtype: object"
      ]
     },
     "execution_count": 92,
     "metadata": {},
     "output_type": "execute_result"
    }
   ],
   "source": [
    "y_data.head()"
   ]
  },
  {
   "cell_type": "code",
   "execution_count": 93,
   "metadata": {},
   "outputs": [],
   "source": [
    "x_t = scale.fit_transform(x_data)\n",
    "x_train = pd.DataFrame(x_data)\n",
    "# x_v = scale.fit_transform(test_knn)\n",
    "# x_test = pd.DataFrame(x_v)"
   ]
  },
  {
   "cell_type": "code",
   "execution_count": 97,
   "metadata": {},
   "outputs": [],
   "source": [
    "grid = {'n_neighbours':[2,3,4,5,6,7,8,9,10,11,12]}"
   ]
  },
  {
   "cell_type": "code",
   "execution_count": 98,
   "metadata": {},
   "outputs": [],
   "source": [
    "knn_obj = neighbors.KNeighborsRegressor()\n",
    "model= GridSearchCV(estimator=knn_obj, param_grid=grid,cv=3)"
   ]
  },
  {
   "cell_type": "code",
   "execution_count": 99,
   "metadata": {},
   "outputs": [
    {
     "ename": "ValueError",
     "evalue": "Found input variables with inconsistent numbers of samples: [846404, 846405]",
     "output_type": "error",
     "traceback": [
      "\u001b[1;31m---------------------------------------------------------------------------\u001b[0m",
      "\u001b[1;31mValueError\u001b[0m                                Traceback (most recent call last)",
      "\u001b[1;32m<ipython-input-99-a7811d562f3b>\u001b[0m in \u001b[0;36m<module>\u001b[1;34m\u001b[0m\n\u001b[1;32m----> 1\u001b[1;33m \u001b[0mmodel\u001b[0m\u001b[1;33m.\u001b[0m\u001b[0mfit\u001b[0m\u001b[1;33m(\u001b[0m\u001b[0mx_train\u001b[0m\u001b[1;33m,\u001b[0m \u001b[0my_data\u001b[0m\u001b[1;33m)\u001b[0m\u001b[1;33m\u001b[0m\u001b[0m\n\u001b[0m",
      "\u001b[1;32mc:\\users\\biju\\.conda\\envs\\py363\\lib\\site-packages\\sklearn\\model_selection\\_search.py\u001b[0m in \u001b[0;36mfit\u001b[1;34m(self, X, y, groups, **fit_params)\u001b[0m\n\u001b[0;32m    628\u001b[0m             \u001b[0mrefit_metric\u001b[0m \u001b[1;33m=\u001b[0m \u001b[1;34m'score'\u001b[0m\u001b[1;33m\u001b[0m\u001b[0m\n\u001b[0;32m    629\u001b[0m \u001b[1;33m\u001b[0m\u001b[0m\n\u001b[1;32m--> 630\u001b[1;33m         \u001b[0mX\u001b[0m\u001b[1;33m,\u001b[0m \u001b[0my\u001b[0m\u001b[1;33m,\u001b[0m \u001b[0mgroups\u001b[0m \u001b[1;33m=\u001b[0m \u001b[0mindexable\u001b[0m\u001b[1;33m(\u001b[0m\u001b[0mX\u001b[0m\u001b[1;33m,\u001b[0m \u001b[0my\u001b[0m\u001b[1;33m,\u001b[0m \u001b[0mgroups\u001b[0m\u001b[1;33m)\u001b[0m\u001b[1;33m\u001b[0m\u001b[0m\n\u001b[0m\u001b[0;32m    631\u001b[0m         \u001b[0mn_splits\u001b[0m \u001b[1;33m=\u001b[0m \u001b[0mcv\u001b[0m\u001b[1;33m.\u001b[0m\u001b[0mget_n_splits\u001b[0m\u001b[1;33m(\u001b[0m\u001b[0mX\u001b[0m\u001b[1;33m,\u001b[0m \u001b[0my\u001b[0m\u001b[1;33m,\u001b[0m \u001b[0mgroups\u001b[0m\u001b[1;33m)\u001b[0m\u001b[1;33m\u001b[0m\u001b[0m\n\u001b[0;32m    632\u001b[0m \u001b[1;33m\u001b[0m\u001b[0m\n",
      "\u001b[1;32mc:\\users\\biju\\.conda\\envs\\py363\\lib\\site-packages\\sklearn\\utils\\validation.py\u001b[0m in \u001b[0;36mindexable\u001b[1;34m(*iterables)\u001b[0m\n\u001b[0;32m    228\u001b[0m         \u001b[1;32melse\u001b[0m\u001b[1;33m:\u001b[0m\u001b[1;33m\u001b[0m\u001b[0m\n\u001b[0;32m    229\u001b[0m             \u001b[0mresult\u001b[0m\u001b[1;33m.\u001b[0m\u001b[0mappend\u001b[0m\u001b[1;33m(\u001b[0m\u001b[0mnp\u001b[0m\u001b[1;33m.\u001b[0m\u001b[0marray\u001b[0m\u001b[1;33m(\u001b[0m\u001b[0mX\u001b[0m\u001b[1;33m)\u001b[0m\u001b[1;33m)\u001b[0m\u001b[1;33m\u001b[0m\u001b[0m\n\u001b[1;32m--> 230\u001b[1;33m     \u001b[0mcheck_consistent_length\u001b[0m\u001b[1;33m(\u001b[0m\u001b[1;33m*\u001b[0m\u001b[0mresult\u001b[0m\u001b[1;33m)\u001b[0m\u001b[1;33m\u001b[0m\u001b[0m\n\u001b[0m\u001b[0;32m    231\u001b[0m     \u001b[1;32mreturn\u001b[0m \u001b[0mresult\u001b[0m\u001b[1;33m\u001b[0m\u001b[0m\n\u001b[0;32m    232\u001b[0m \u001b[1;33m\u001b[0m\u001b[0m\n",
      "\u001b[1;32mc:\\users\\biju\\.conda\\envs\\py363\\lib\\site-packages\\sklearn\\utils\\validation.py\u001b[0m in \u001b[0;36mcheck_consistent_length\u001b[1;34m(*arrays)\u001b[0m\n\u001b[0;32m    203\u001b[0m     \u001b[1;32mif\u001b[0m \u001b[0mlen\u001b[0m\u001b[1;33m(\u001b[0m\u001b[0muniques\u001b[0m\u001b[1;33m)\u001b[0m \u001b[1;33m>\u001b[0m \u001b[1;36m1\u001b[0m\u001b[1;33m:\u001b[0m\u001b[1;33m\u001b[0m\u001b[0m\n\u001b[0;32m    204\u001b[0m         raise ValueError(\"Found input variables with inconsistent numbers of\"\n\u001b[1;32m--> 205\u001b[1;33m                          \" samples: %r\" % [int(l) for l in lengths])\n\u001b[0m\u001b[0;32m    206\u001b[0m \u001b[1;33m\u001b[0m\u001b[0m\n\u001b[0;32m    207\u001b[0m \u001b[1;33m\u001b[0m\u001b[0m\n",
      "\u001b[1;31mValueError\u001b[0m: Found input variables with inconsistent numbers of samples: [846404, 846405]"
     ]
    }
   ],
   "source": [
    "model.fit(x_train, y_data)"
   ]
  },
  {
   "cell_type": "code",
   "execution_count": null,
   "metadata": {},
   "outputs": [],
   "source": []
  }
 ],
 "metadata": {
  "kernelspec": {
   "display_name": "Python 3",
   "language": "python",
   "name": "python3"
  },
  "language_info": {
   "codemirror_mode": {
    "name": "ipython",
    "version": 3
   },
   "file_extension": ".py",
   "mimetype": "text/x-python",
   "name": "python",
   "nbconvert_exporter": "python",
   "pygments_lexer": "ipython3",
   "version": "3.6.3"
  }
 },
 "nbformat": 4,
 "nbformat_minor": 2
}
