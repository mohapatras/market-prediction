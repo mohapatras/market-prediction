{
 "cells": [
  {
   "cell_type": "code",
   "execution_count": 1,
   "metadata": {},
   "outputs": [],
   "source": [
    "import numpy as np\n",
    "import pandas as pd\n",
    "import missingno as mo\n",
    "\n",
    "from pandas.plotting import register_matplotlib_converters\n",
    "register_matplotlib_converters()"
   ]
  },
  {
   "cell_type": "code",
   "execution_count": 2,
   "metadata": {},
   "outputs": [],
   "source": [
    "from sklearn import neighbors\n",
    "from sklearn.preprocessing import MinMaxScaler\n",
    "from sklearn.model_selection import GridSearchCV"
   ]
  },
  {
   "cell_type": "code",
   "execution_count": 3,
   "metadata": {},
   "outputs": [],
   "source": [
    "import matplotlib.pyplot as plt\n",
    "from matplotlib.pylab import rcParams\n",
    "\n",
    "%matplotlib inline\n",
    "rcParams['figure.figsize']=20,10"
   ]
  },
  {
   "cell_type": "code",
   "execution_count": 4,
   "metadata": {},
   "outputs": [],
   "source": [
    "df = pd.read_csv('C:/Users/biju/Documents/timeseries/nse_data.csv')"
   ]
  },
  {
   "cell_type": "code",
   "execution_count": 5,
   "metadata": {},
   "outputs": [
    {
     "data": {
      "text/html": [
       "<div>\n",
       "<style scoped>\n",
       "    .dataframe tbody tr th:only-of-type {\n",
       "        vertical-align: middle;\n",
       "    }\n",
       "\n",
       "    .dataframe tbody tr th {\n",
       "        vertical-align: top;\n",
       "    }\n",
       "\n",
       "    .dataframe thead th {\n",
       "        text-align: right;\n",
       "    }\n",
       "</style>\n",
       "<table border=\"1\" class=\"dataframe\">\n",
       "  <thead>\n",
       "    <tr style=\"text-align: right;\">\n",
       "      <th></th>\n",
       "      <th>SYMBOL</th>\n",
       "      <th>SERIES</th>\n",
       "      <th>OPEN</th>\n",
       "      <th>HIGH</th>\n",
       "      <th>LOW</th>\n",
       "      <th>CLOSE</th>\n",
       "      <th>LAST</th>\n",
       "      <th>PREVCLOSE</th>\n",
       "      <th>TOTTRDQTY</th>\n",
       "      <th>TOTTRDVAL</th>\n",
       "      <th>TIMESTAMP</th>\n",
       "      <th>TOTALTRADES</th>\n",
       "      <th>ISIN</th>\n",
       "    </tr>\n",
       "  </thead>\n",
       "  <tbody>\n",
       "    <tr>\n",
       "      <th>0</th>\n",
       "      <td>20MICRONS</td>\n",
       "      <td>EQ</td>\n",
       "      <td>37.80</td>\n",
       "      <td>37.80</td>\n",
       "      <td>36.15</td>\n",
       "      <td>36.85</td>\n",
       "      <td>37.40</td>\n",
       "      <td>37.05</td>\n",
       "      <td>27130</td>\n",
       "      <td>994657.90</td>\n",
       "      <td>2017-06-28</td>\n",
       "      <td>202</td>\n",
       "      <td>INE144J01027</td>\n",
       "    </tr>\n",
       "    <tr>\n",
       "      <th>1</th>\n",
       "      <td>3IINFOTECH</td>\n",
       "      <td>EQ</td>\n",
       "      <td>4.10</td>\n",
       "      <td>4.85</td>\n",
       "      <td>4.00</td>\n",
       "      <td>4.55</td>\n",
       "      <td>4.65</td>\n",
       "      <td>4.05</td>\n",
       "      <td>20157058</td>\n",
       "      <td>92148517.65</td>\n",
       "      <td>2017-06-28</td>\n",
       "      <td>7353</td>\n",
       "      <td>INE748C01020</td>\n",
       "    </tr>\n",
       "    <tr>\n",
       "      <th>2</th>\n",
       "      <td>3MINDIA</td>\n",
       "      <td>EQ</td>\n",
       "      <td>13425.15</td>\n",
       "      <td>13469.55</td>\n",
       "      <td>12920.00</td>\n",
       "      <td>13266.70</td>\n",
       "      <td>13300.00</td>\n",
       "      <td>13460.55</td>\n",
       "      <td>2290</td>\n",
       "      <td>30304923.35</td>\n",
       "      <td>2017-06-28</td>\n",
       "      <td>748</td>\n",
       "      <td>INE470A01017</td>\n",
       "    </tr>\n",
       "    <tr>\n",
       "      <th>3</th>\n",
       "      <td>63MOONS</td>\n",
       "      <td>EQ</td>\n",
       "      <td>61.00</td>\n",
       "      <td>61.90</td>\n",
       "      <td>60.35</td>\n",
       "      <td>61.00</td>\n",
       "      <td>61.10</td>\n",
       "      <td>60.65</td>\n",
       "      <td>27701</td>\n",
       "      <td>1689421.00</td>\n",
       "      <td>2017-06-28</td>\n",
       "      <td>437</td>\n",
       "      <td>INE111B01023</td>\n",
       "    </tr>\n",
       "    <tr>\n",
       "      <th>4</th>\n",
       "      <td>8KMILES</td>\n",
       "      <td>EQ</td>\n",
       "      <td>546.10</td>\n",
       "      <td>548.00</td>\n",
       "      <td>535.00</td>\n",
       "      <td>537.45</td>\n",
       "      <td>535.20</td>\n",
       "      <td>547.45</td>\n",
       "      <td>79722</td>\n",
       "      <td>43208620.05</td>\n",
       "      <td>2017-06-28</td>\n",
       "      <td>1866</td>\n",
       "      <td>INE650K01021</td>\n",
       "    </tr>\n",
       "  </tbody>\n",
       "</table>\n",
       "</div>"
      ],
      "text/plain": [
       "       SYMBOL SERIES      OPEN      HIGH       LOW     CLOSE      LAST  \\\n",
       "0   20MICRONS     EQ     37.80     37.80     36.15     36.85     37.40   \n",
       "1  3IINFOTECH     EQ      4.10      4.85      4.00      4.55      4.65   \n",
       "2     3MINDIA     EQ  13425.15  13469.55  12920.00  13266.70  13300.00   \n",
       "3     63MOONS     EQ     61.00     61.90     60.35     61.00     61.10   \n",
       "4     8KMILES     EQ    546.10    548.00    535.00    537.45    535.20   \n",
       "\n",
       "   PREVCLOSE  TOTTRDQTY    TOTTRDVAL   TIMESTAMP  TOTALTRADES          ISIN  \n",
       "0      37.05      27130    994657.90  2017-06-28          202  INE144J01027  \n",
       "1       4.05   20157058  92148517.65  2017-06-28         7353  INE748C01020  \n",
       "2   13460.55       2290  30304923.35  2017-06-28          748  INE470A01017  \n",
       "3      60.65      27701   1689421.00  2017-06-28          437  INE111B01023  \n",
       "4     547.45      79722  43208620.05  2017-06-28         1866  INE650K01021  "
      ]
     },
     "execution_count": 5,
     "metadata": {},
     "output_type": "execute_result"
    }
   ],
   "source": [
    "df.head()"
   ]
  },
  {
   "cell_type": "code",
   "execution_count": 6,
   "metadata": {},
   "outputs": [
    {
     "data": {
      "text/plain": [
       "True"
      ]
     },
     "execution_count": 6,
     "metadata": {},
     "output_type": "execute_result"
    }
   ],
   "source": [
    "df.isnull().values.any()"
   ]
  },
  {
   "cell_type": "code",
   "execution_count": 7,
   "metadata": {},
   "outputs": [],
   "source": [
    "df_1 = df.drop(columns=['SERIES'], axis=1)"
   ]
  },
  {
   "cell_type": "code",
   "execution_count": 8,
   "metadata": {},
   "outputs": [],
   "source": [
    "df_2= df_1.drop(columns=['SYMBOL', 'TIMESTAMP', 'ISIN'])"
   ]
  },
  {
   "cell_type": "code",
   "execution_count": 9,
   "metadata": {},
   "outputs": [
    {
     "data": {
      "text/html": [
       "<div>\n",
       "<style scoped>\n",
       "    .dataframe tbody tr th:only-of-type {\n",
       "        vertical-align: middle;\n",
       "    }\n",
       "\n",
       "    .dataframe tbody tr th {\n",
       "        vertical-align: top;\n",
       "    }\n",
       "\n",
       "    .dataframe thead th {\n",
       "        text-align: right;\n",
       "    }\n",
       "</style>\n",
       "<table border=\"1\" class=\"dataframe\">\n",
       "  <thead>\n",
       "    <tr style=\"text-align: right;\">\n",
       "      <th></th>\n",
       "      <th>OPEN</th>\n",
       "      <th>HIGH</th>\n",
       "      <th>LOW</th>\n",
       "      <th>CLOSE</th>\n",
       "      <th>LAST</th>\n",
       "      <th>PREVCLOSE</th>\n",
       "      <th>TOTTRDQTY</th>\n",
       "      <th>TOTTRDVAL</th>\n",
       "      <th>TOTALTRADES</th>\n",
       "    </tr>\n",
       "  </thead>\n",
       "  <tbody>\n",
       "    <tr>\n",
       "      <th>0</th>\n",
       "      <td>37.80</td>\n",
       "      <td>37.80</td>\n",
       "      <td>36.15</td>\n",
       "      <td>36.85</td>\n",
       "      <td>37.40</td>\n",
       "      <td>37.05</td>\n",
       "      <td>27130</td>\n",
       "      <td>994657.90</td>\n",
       "      <td>202</td>\n",
       "    </tr>\n",
       "    <tr>\n",
       "      <th>1</th>\n",
       "      <td>4.10</td>\n",
       "      <td>4.85</td>\n",
       "      <td>4.00</td>\n",
       "      <td>4.55</td>\n",
       "      <td>4.65</td>\n",
       "      <td>4.05</td>\n",
       "      <td>20157058</td>\n",
       "      <td>92148517.65</td>\n",
       "      <td>7353</td>\n",
       "    </tr>\n",
       "    <tr>\n",
       "      <th>2</th>\n",
       "      <td>13425.15</td>\n",
       "      <td>13469.55</td>\n",
       "      <td>12920.00</td>\n",
       "      <td>13266.70</td>\n",
       "      <td>13300.00</td>\n",
       "      <td>13460.55</td>\n",
       "      <td>2290</td>\n",
       "      <td>30304923.35</td>\n",
       "      <td>748</td>\n",
       "    </tr>\n",
       "    <tr>\n",
       "      <th>3</th>\n",
       "      <td>61.00</td>\n",
       "      <td>61.90</td>\n",
       "      <td>60.35</td>\n",
       "      <td>61.00</td>\n",
       "      <td>61.10</td>\n",
       "      <td>60.65</td>\n",
       "      <td>27701</td>\n",
       "      <td>1689421.00</td>\n",
       "      <td>437</td>\n",
       "    </tr>\n",
       "    <tr>\n",
       "      <th>4</th>\n",
       "      <td>546.10</td>\n",
       "      <td>548.00</td>\n",
       "      <td>535.00</td>\n",
       "      <td>537.45</td>\n",
       "      <td>535.20</td>\n",
       "      <td>547.45</td>\n",
       "      <td>79722</td>\n",
       "      <td>43208620.05</td>\n",
       "      <td>1866</td>\n",
       "    </tr>\n",
       "  </tbody>\n",
       "</table>\n",
       "</div>"
      ],
      "text/plain": [
       "       OPEN      HIGH       LOW     CLOSE      LAST  PREVCLOSE  TOTTRDQTY  \\\n",
       "0     37.80     37.80     36.15     36.85     37.40      37.05      27130   \n",
       "1      4.10      4.85      4.00      4.55      4.65       4.05   20157058   \n",
       "2  13425.15  13469.55  12920.00  13266.70  13300.00   13460.55       2290   \n",
       "3     61.00     61.90     60.35     61.00     61.10      60.65      27701   \n",
       "4    546.10    548.00    535.00    537.45    535.20     547.45      79722   \n",
       "\n",
       "     TOTTRDVAL  TOTALTRADES  \n",
       "0    994657.90          202  \n",
       "1  92148517.65         7353  \n",
       "2  30304923.35          748  \n",
       "3   1689421.00          437  \n",
       "4  43208620.05         1866  "
      ]
     },
     "execution_count": 9,
     "metadata": {},
     "output_type": "execute_result"
    }
   ],
   "source": [
    "df_2.head()"
   ]
  },
  {
   "cell_type": "code",
   "execution_count": 10,
   "metadata": {},
   "outputs": [],
   "source": [
    "train_data = df_2[:746404]\n",
    "test_data = df_2[746404:]"
   ]
  },
  {
   "cell_type": "code",
   "execution_count": 11,
   "metadata": {},
   "outputs": [
    {
     "name": "stdout",
     "output_type": "stream",
     "text": [
      "(746404, 9)\n",
      "(100000, 9)\n"
     ]
    }
   ],
   "source": [
    "print(train_data.shape)\n",
    "print(test_data.shape)"
   ]
  },
  {
   "cell_type": "code",
   "execution_count": 12,
   "metadata": {},
   "outputs": [],
   "source": [
    "x_train = train_data.drop(columns=['CLOSE'],axis=1)\n",
    "y_train = train_data['CLOSE']"
   ]
  },
  {
   "cell_type": "code",
   "execution_count": 13,
   "metadata": {},
   "outputs": [
    {
     "data": {
      "text/html": [
       "<div>\n",
       "<style scoped>\n",
       "    .dataframe tbody tr th:only-of-type {\n",
       "        vertical-align: middle;\n",
       "    }\n",
       "\n",
       "    .dataframe tbody tr th {\n",
       "        vertical-align: top;\n",
       "    }\n",
       "\n",
       "    .dataframe thead th {\n",
       "        text-align: right;\n",
       "    }\n",
       "</style>\n",
       "<table border=\"1\" class=\"dataframe\">\n",
       "  <thead>\n",
       "    <tr style=\"text-align: right;\">\n",
       "      <th></th>\n",
       "      <th>OPEN</th>\n",
       "      <th>HIGH</th>\n",
       "      <th>LOW</th>\n",
       "      <th>LAST</th>\n",
       "      <th>PREVCLOSE</th>\n",
       "      <th>TOTTRDQTY</th>\n",
       "      <th>TOTTRDVAL</th>\n",
       "      <th>TOTALTRADES</th>\n",
       "    </tr>\n",
       "  </thead>\n",
       "  <tbody>\n",
       "    <tr>\n",
       "      <th>0</th>\n",
       "      <td>37.80</td>\n",
       "      <td>37.80</td>\n",
       "      <td>36.15</td>\n",
       "      <td>37.40</td>\n",
       "      <td>37.05</td>\n",
       "      <td>27130</td>\n",
       "      <td>994657.90</td>\n",
       "      <td>202</td>\n",
       "    </tr>\n",
       "    <tr>\n",
       "      <th>1</th>\n",
       "      <td>4.10</td>\n",
       "      <td>4.85</td>\n",
       "      <td>4.00</td>\n",
       "      <td>4.65</td>\n",
       "      <td>4.05</td>\n",
       "      <td>20157058</td>\n",
       "      <td>92148517.65</td>\n",
       "      <td>7353</td>\n",
       "    </tr>\n",
       "    <tr>\n",
       "      <th>2</th>\n",
       "      <td>13425.15</td>\n",
       "      <td>13469.55</td>\n",
       "      <td>12920.00</td>\n",
       "      <td>13300.00</td>\n",
       "      <td>13460.55</td>\n",
       "      <td>2290</td>\n",
       "      <td>30304923.35</td>\n",
       "      <td>748</td>\n",
       "    </tr>\n",
       "    <tr>\n",
       "      <th>3</th>\n",
       "      <td>61.00</td>\n",
       "      <td>61.90</td>\n",
       "      <td>60.35</td>\n",
       "      <td>61.10</td>\n",
       "      <td>60.65</td>\n",
       "      <td>27701</td>\n",
       "      <td>1689421.00</td>\n",
       "      <td>437</td>\n",
       "    </tr>\n",
       "    <tr>\n",
       "      <th>4</th>\n",
       "      <td>546.10</td>\n",
       "      <td>548.00</td>\n",
       "      <td>535.00</td>\n",
       "      <td>535.20</td>\n",
       "      <td>547.45</td>\n",
       "      <td>79722</td>\n",
       "      <td>43208620.05</td>\n",
       "      <td>1866</td>\n",
       "    </tr>\n",
       "  </tbody>\n",
       "</table>\n",
       "</div>"
      ],
      "text/plain": [
       "       OPEN      HIGH       LOW      LAST  PREVCLOSE  TOTTRDQTY    TOTTRDVAL  \\\n",
       "0     37.80     37.80     36.15     37.40      37.05      27130    994657.90   \n",
       "1      4.10      4.85      4.00      4.65       4.05   20157058  92148517.65   \n",
       "2  13425.15  13469.55  12920.00  13300.00   13460.55       2290  30304923.35   \n",
       "3     61.00     61.90     60.35     61.10      60.65      27701   1689421.00   \n",
       "4    546.10    548.00    535.00    535.20     547.45      79722  43208620.05   \n",
       "\n",
       "   TOTALTRADES  \n",
       "0          202  \n",
       "1         7353  \n",
       "2          748  \n",
       "3          437  \n",
       "4         1866  "
      ]
     },
     "execution_count": 13,
     "metadata": {},
     "output_type": "execute_result"
    }
   ],
   "source": [
    "x_train.head()"
   ]
  },
  {
   "cell_type": "code",
   "execution_count": 14,
   "metadata": {},
   "outputs": [
    {
     "data": {
      "text/plain": [
       "0       36.85\n",
       "1        4.55\n",
       "2    13266.70\n",
       "3       61.00\n",
       "4      537.45\n",
       "Name: CLOSE, dtype: float64"
      ]
     },
     "execution_count": 14,
     "metadata": {},
     "output_type": "execute_result"
    }
   ],
   "source": [
    "y_train.head()"
   ]
  },
  {
   "cell_type": "code",
   "execution_count": 15,
   "metadata": {},
   "outputs": [
    {
     "data": {
      "text/plain": [
       "<bound method Series.count of 0            36.85\n",
       "1             4.55\n",
       "2         13266.70\n",
       "3            61.00\n",
       "4           537.45\n",
       "            ...   \n",
       "746399       44.75\n",
       "746400      159.85\n",
       "746401      475.30\n",
       "746402       18.35\n",
       "746403      267.95\n",
       "Name: CLOSE, Length: 746404, dtype: float64>"
      ]
     },
     "execution_count": 15,
     "metadata": {},
     "output_type": "execute_result"
    }
   ],
   "source": [
    "y_train.count"
   ]
  },
  {
   "cell_type": "code",
   "execution_count": 16,
   "metadata": {},
   "outputs": [
    {
     "data": {
      "text/plain": [
       "<bound method DataFrame.count of             OPEN      HIGH       LOW      LAST  PREVCLOSE  TOTTRDQTY  \\\n",
       "0          37.80     37.80     36.15     37.40      37.05      27130   \n",
       "1           4.10      4.85      4.00      4.65       4.05   20157058   \n",
       "2       13425.15  13469.55  12920.00  13300.00   13460.55       2290   \n",
       "3          61.00     61.90     60.35     61.10      60.65      27701   \n",
       "4         546.10    548.00    535.00    535.20     547.45      79722   \n",
       "...          ...       ...       ...       ...        ...        ...   \n",
       "746399     46.60     46.60     44.50     44.80      46.40     213343   \n",
       "746400    156.00    162.85    155.00    161.40     156.25     424247   \n",
       "746401    493.00    494.00    470.00    474.75     490.00        793   \n",
       "746402     18.25     18.50     18.15     18.30      18.55     962006   \n",
       "746403    274.05    275.45    265.05    268.25     277.50     258306   \n",
       "\n",
       "          TOTTRDVAL  TOTALTRADES  \n",
       "0         994657.90          202  \n",
       "1       92148517.65         7353  \n",
       "2       30304923.35          748  \n",
       "3        1689421.00          437  \n",
       "4       43208620.05         1866  \n",
       "...             ...          ...  \n",
       "746399   9598294.70         1303  \n",
       "746400  67499244.95         7282  \n",
       "746401    380072.90          106  \n",
       "746402  17686696.75         3183  \n",
       "746403  69843126.10         6546  \n",
       "\n",
       "[746404 rows x 8 columns]>"
      ]
     },
     "execution_count": 16,
     "metadata": {},
     "output_type": "execute_result"
    }
   ],
   "source": [
    "x_train.count"
   ]
  },
  {
   "cell_type": "code",
   "execution_count": 17,
   "metadata": {},
   "outputs": [],
   "source": [
    "scale = MinMaxScaler(feature_range=(0,1))\n",
    "x_t = scale.fit_transform(x_train)\n",
    "x_train = pd.DataFrame(x_t)"
   ]
  },
  {
   "cell_type": "code",
   "execution_count": 18,
   "metadata": {},
   "outputs": [
    {
     "data": {
      "text/html": [
       "<div>\n",
       "<style scoped>\n",
       "    .dataframe tbody tr th:only-of-type {\n",
       "        vertical-align: middle;\n",
       "    }\n",
       "\n",
       "    .dataframe tbody tr th {\n",
       "        vertical-align: top;\n",
       "    }\n",
       "\n",
       "    .dataframe thead th {\n",
       "        text-align: right;\n",
       "    }\n",
       "</style>\n",
       "<table border=\"1\" class=\"dataframe\">\n",
       "  <thead>\n",
       "    <tr style=\"text-align: right;\">\n",
       "      <th></th>\n",
       "      <th>0</th>\n",
       "      <th>1</th>\n",
       "      <th>2</th>\n",
       "      <th>3</th>\n",
       "      <th>4</th>\n",
       "      <th>5</th>\n",
       "      <th>6</th>\n",
       "      <th>7</th>\n",
       "    </tr>\n",
       "  </thead>\n",
       "  <tbody>\n",
       "    <tr>\n",
       "      <th>0</th>\n",
       "      <td>0.000315</td>\n",
       "      <td>0.000315</td>\n",
       "      <td>0.000301</td>\n",
       "      <td>0.000312</td>\n",
       "      <td>0.000308</td>\n",
       "      <td>0.000035</td>\n",
       "      <td>0.000007</td>\n",
       "      <td>0.000168</td>\n",
       "    </tr>\n",
       "    <tr>\n",
       "      <th>1</th>\n",
       "      <td>0.000034</td>\n",
       "      <td>0.000040</td>\n",
       "      <td>0.000033</td>\n",
       "      <td>0.000039</td>\n",
       "      <td>0.000033</td>\n",
       "      <td>0.025782</td>\n",
       "      <td>0.000646</td>\n",
       "      <td>0.006163</td>\n",
       "    </tr>\n",
       "    <tr>\n",
       "      <th>2</th>\n",
       "      <td>0.111885</td>\n",
       "      <td>0.112255</td>\n",
       "      <td>0.107675</td>\n",
       "      <td>0.110843</td>\n",
       "      <td>0.112180</td>\n",
       "      <td>0.000003</td>\n",
       "      <td>0.000212</td>\n",
       "      <td>0.000626</td>\n",
       "    </tr>\n",
       "    <tr>\n",
       "      <th>3</th>\n",
       "      <td>0.000508</td>\n",
       "      <td>0.000515</td>\n",
       "      <td>0.000503</td>\n",
       "      <td>0.000509</td>\n",
       "      <td>0.000505</td>\n",
       "      <td>0.000035</td>\n",
       "      <td>0.000012</td>\n",
       "      <td>0.000365</td>\n",
       "    </tr>\n",
       "    <tr>\n",
       "      <th>4</th>\n",
       "      <td>0.004551</td>\n",
       "      <td>0.004567</td>\n",
       "      <td>0.004458</td>\n",
       "      <td>0.004460</td>\n",
       "      <td>0.004562</td>\n",
       "      <td>0.000102</td>\n",
       "      <td>0.000303</td>\n",
       "      <td>0.001563</td>\n",
       "    </tr>\n",
       "  </tbody>\n",
       "</table>\n",
       "</div>"
      ],
      "text/plain": [
       "          0         1         2         3         4         5         6  \\\n",
       "0  0.000315  0.000315  0.000301  0.000312  0.000308  0.000035  0.000007   \n",
       "1  0.000034  0.000040  0.000033  0.000039  0.000033  0.025782  0.000646   \n",
       "2  0.111885  0.112255  0.107675  0.110843  0.112180  0.000003  0.000212   \n",
       "3  0.000508  0.000515  0.000503  0.000509  0.000505  0.000035  0.000012   \n",
       "4  0.004551  0.004567  0.004458  0.004460  0.004562  0.000102  0.000303   \n",
       "\n",
       "          7  \n",
       "0  0.000168  \n",
       "1  0.006163  \n",
       "2  0.000626  \n",
       "3  0.000365  \n",
       "4  0.001563  "
      ]
     },
     "execution_count": 18,
     "metadata": {},
     "output_type": "execute_result"
    }
   ],
   "source": [
    "x_train.head()"
   ]
  },
  {
   "cell_type": "code",
   "execution_count": 26,
   "metadata": {},
   "outputs": [],
   "source": [
    "grid = {'n_neighbors':[2,3,4,5,6,7,8,9,10,11,12]}"
   ]
  },
  {
   "cell_type": "code",
   "execution_count": 27,
   "metadata": {},
   "outputs": [],
   "source": [
    "knn_obj = neighbors.KNeighborsRegressor()\n",
    "model= GridSearchCV(estimator=knn_obj, param_grid=grid,cv=3)"
   ]
  },
  {
   "cell_type": "code",
   "execution_count": 28,
   "metadata": {},
   "outputs": [
    {
     "data": {
      "text/plain": [
       "GridSearchCV(cv=3, error_score='raise-deprecating',\n",
       "             estimator=KNeighborsRegressor(algorithm='auto', leaf_size=30,\n",
       "                                           metric='minkowski',\n",
       "                                           metric_params=None, n_jobs=None,\n",
       "                                           n_neighbors=5, p=2,\n",
       "                                           weights='uniform'),\n",
       "             iid='warn', n_jobs=None,\n",
       "             param_grid={'n_neighbors': [2, 3, 4, 5, 6, 7, 8, 9, 10, 11, 12]},\n",
       "             pre_dispatch='2*n_jobs', refit=True, return_train_score=False,\n",
       "             scoring=None, verbose=0)"
      ]
     },
     "execution_count": 28,
     "metadata": {},
     "output_type": "execute_result"
    }
   ],
   "source": [
    "model.fit(x_train, y_train)"
   ]
  },
  {
   "cell_type": "code",
   "execution_count": 29,
   "metadata": {},
   "outputs": [
    {
     "data": {
      "text/html": [
       "<div>\n",
       "<style scoped>\n",
       "    .dataframe tbody tr th:only-of-type {\n",
       "        vertical-align: middle;\n",
       "    }\n",
       "\n",
       "    .dataframe tbody tr th {\n",
       "        vertical-align: top;\n",
       "    }\n",
       "\n",
       "    .dataframe thead th {\n",
       "        text-align: right;\n",
       "    }\n",
       "</style>\n",
       "<table border=\"1\" class=\"dataframe\">\n",
       "  <thead>\n",
       "    <tr style=\"text-align: right;\">\n",
       "      <th></th>\n",
       "      <th>OPEN</th>\n",
       "      <th>HIGH</th>\n",
       "      <th>LOW</th>\n",
       "      <th>CLOSE</th>\n",
       "      <th>LAST</th>\n",
       "      <th>PREVCLOSE</th>\n",
       "      <th>TOTTRDQTY</th>\n",
       "      <th>TOTTRDVAL</th>\n",
       "      <th>TOTALTRADES</th>\n",
       "    </tr>\n",
       "  </thead>\n",
       "  <tbody>\n",
       "    <tr>\n",
       "      <th>746404</th>\n",
       "      <td>97.00</td>\n",
       "      <td>99.90</td>\n",
       "      <td>94.40</td>\n",
       "      <td>94.70</td>\n",
       "      <td>94.6</td>\n",
       "      <td>97.85</td>\n",
       "      <td>11938</td>\n",
       "      <td>1143262.95</td>\n",
       "      <td>362</td>\n",
       "    </tr>\n",
       "    <tr>\n",
       "      <th>746405</th>\n",
       "      <td>3.50</td>\n",
       "      <td>3.50</td>\n",
       "      <td>3.20</td>\n",
       "      <td>3.20</td>\n",
       "      <td>3.2</td>\n",
       "      <td>3.55</td>\n",
       "      <td>57148</td>\n",
       "      <td>184412.90</td>\n",
       "      <td>92</td>\n",
       "    </tr>\n",
       "    <tr>\n",
       "      <th>746406</th>\n",
       "      <td>66.10</td>\n",
       "      <td>66.10</td>\n",
       "      <td>60.55</td>\n",
       "      <td>61.35</td>\n",
       "      <td>62.7</td>\n",
       "      <td>65.00</td>\n",
       "      <td>12813</td>\n",
       "      <td>816569.70</td>\n",
       "      <td>68</td>\n",
       "    </tr>\n",
       "    <tr>\n",
       "      <th>746407</th>\n",
       "      <td>21.25</td>\n",
       "      <td>22.40</td>\n",
       "      <td>21.25</td>\n",
       "      <td>22.05</td>\n",
       "      <td>22.3</td>\n",
       "      <td>21.80</td>\n",
       "      <td>223654</td>\n",
       "      <td>4918246.80</td>\n",
       "      <td>592</td>\n",
       "    </tr>\n",
       "    <tr>\n",
       "      <th>746408</th>\n",
       "      <td>22.30</td>\n",
       "      <td>22.35</td>\n",
       "      <td>20.50</td>\n",
       "      <td>20.90</td>\n",
       "      <td>20.9</td>\n",
       "      <td>21.45</td>\n",
       "      <td>11638</td>\n",
       "      <td>245572.00</td>\n",
       "      <td>62</td>\n",
       "    </tr>\n",
       "  </tbody>\n",
       "</table>\n",
       "</div>"
      ],
      "text/plain": [
       "         OPEN   HIGH    LOW  CLOSE  LAST  PREVCLOSE  TOTTRDQTY   TOTTRDVAL  \\\n",
       "746404  97.00  99.90  94.40  94.70  94.6      97.85      11938  1143262.95   \n",
       "746405   3.50   3.50   3.20   3.20   3.2       3.55      57148   184412.90   \n",
       "746406  66.10  66.10  60.55  61.35  62.7      65.00      12813   816569.70   \n",
       "746407  21.25  22.40  21.25  22.05  22.3      21.80     223654  4918246.80   \n",
       "746408  22.30  22.35  20.50  20.90  20.9      21.45      11638   245572.00   \n",
       "\n",
       "        TOTALTRADES  \n",
       "746404          362  \n",
       "746405           92  \n",
       "746406           68  \n",
       "746407          592  \n",
       "746408           62  "
      ]
     },
     "execution_count": 29,
     "metadata": {},
     "output_type": "execute_result"
    }
   ],
   "source": [
    "test_data.head()"
   ]
  },
  {
   "cell_type": "code",
   "execution_count": 30,
   "metadata": {},
   "outputs": [],
   "source": [
    "x_test = test_data.drop(columns=['CLOSE'],axis=1)\n",
    "y_test = test_data['CLOSE']"
   ]
  },
  {
   "cell_type": "code",
   "execution_count": 31,
   "metadata": {},
   "outputs": [],
   "source": [
    "x_te = scale.fit_transform(x_test)\n",
    "x_test = pd.DataFrame(x_te)"
   ]
  },
  {
   "cell_type": "code",
   "execution_count": 32,
   "metadata": {},
   "outputs": [
    {
     "data": {
      "text/html": [
       "<div>\n",
       "<style scoped>\n",
       "    .dataframe tbody tr th:only-of-type {\n",
       "        vertical-align: middle;\n",
       "    }\n",
       "\n",
       "    .dataframe tbody tr th {\n",
       "        vertical-align: top;\n",
       "    }\n",
       "\n",
       "    .dataframe thead th {\n",
       "        text-align: right;\n",
       "    }\n",
       "</style>\n",
       "<table border=\"1\" class=\"dataframe\">\n",
       "  <thead>\n",
       "    <tr style=\"text-align: right;\">\n",
       "      <th></th>\n",
       "      <th>0</th>\n",
       "      <th>1</th>\n",
       "      <th>2</th>\n",
       "      <th>3</th>\n",
       "      <th>4</th>\n",
       "      <th>5</th>\n",
       "      <th>6</th>\n",
       "      <th>7</th>\n",
       "    </tr>\n",
       "  </thead>\n",
       "  <tbody>\n",
       "    <tr>\n",
       "      <th>0</th>\n",
       "      <td>0.001319</td>\n",
       "      <td>0.001350</td>\n",
       "      <td>0.001309</td>\n",
       "      <td>0.001308</td>\n",
       "      <td>0.001331</td>\n",
       "      <td>0.000017</td>\n",
       "      <td>0.000016</td>\n",
       "      <td>0.000532</td>\n",
       "    </tr>\n",
       "    <tr>\n",
       "      <th>1</th>\n",
       "      <td>0.000047</td>\n",
       "      <td>0.000047</td>\n",
       "      <td>0.000044</td>\n",
       "      <td>0.000044</td>\n",
       "      <td>0.000048</td>\n",
       "      <td>0.000083</td>\n",
       "      <td>0.000003</td>\n",
       "      <td>0.000134</td>\n",
       "    </tr>\n",
       "    <tr>\n",
       "      <th>2</th>\n",
       "      <td>0.000899</td>\n",
       "      <td>0.000893</td>\n",
       "      <td>0.000839</td>\n",
       "      <td>0.000867</td>\n",
       "      <td>0.000884</td>\n",
       "      <td>0.000019</td>\n",
       "      <td>0.000011</td>\n",
       "      <td>0.000099</td>\n",
       "    </tr>\n",
       "    <tr>\n",
       "      <th>3</th>\n",
       "      <td>0.000288</td>\n",
       "      <td>0.000302</td>\n",
       "      <td>0.000294</td>\n",
       "      <td>0.000308</td>\n",
       "      <td>0.000296</td>\n",
       "      <td>0.000326</td>\n",
       "      <td>0.000069</td>\n",
       "      <td>0.000871</td>\n",
       "    </tr>\n",
       "    <tr>\n",
       "      <th>4</th>\n",
       "      <td>0.000303</td>\n",
       "      <td>0.000302</td>\n",
       "      <td>0.000284</td>\n",
       "      <td>0.000289</td>\n",
       "      <td>0.000291</td>\n",
       "      <td>0.000017</td>\n",
       "      <td>0.000003</td>\n",
       "      <td>0.000090</td>\n",
       "    </tr>\n",
       "  </tbody>\n",
       "</table>\n",
       "</div>"
      ],
      "text/plain": [
       "          0         1         2         3         4         5         6  \\\n",
       "0  0.001319  0.001350  0.001309  0.001308  0.001331  0.000017  0.000016   \n",
       "1  0.000047  0.000047  0.000044  0.000044  0.000048  0.000083  0.000003   \n",
       "2  0.000899  0.000893  0.000839  0.000867  0.000884  0.000019  0.000011   \n",
       "3  0.000288  0.000302  0.000294  0.000308  0.000296  0.000326  0.000069   \n",
       "4  0.000303  0.000302  0.000284  0.000289  0.000291  0.000017  0.000003   \n",
       "\n",
       "          7  \n",
       "0  0.000532  \n",
       "1  0.000134  \n",
       "2  0.000099  \n",
       "3  0.000871  \n",
       "4  0.000090  "
      ]
     },
     "execution_count": 32,
     "metadata": {},
     "output_type": "execute_result"
    }
   ],
   "source": [
    "x_test.head()"
   ]
  },
  {
   "cell_type": "code",
   "execution_count": 33,
   "metadata": {},
   "outputs": [],
   "source": [
    "predictions = model.predict(x_test)"
   ]
  },
  {
   "cell_type": "code",
   "execution_count": 34,
   "metadata": {},
   "outputs": [
    {
     "data": {
      "text/plain": [
       "(100000,)"
      ]
     },
     "execution_count": 34,
     "metadata": {},
     "output_type": "execute_result"
    }
   ],
   "source": [
    "predictions.shape"
   ]
  },
  {
   "cell_type": "code",
   "execution_count": 35,
   "metadata": {},
   "outputs": [
    {
     "data": {
      "text/plain": [
       "array([ 157.275,    5.525,  103.525,   35.825,   34.875,   51.6  ,\n",
       "        108.125,    2.95 , 1514.35 ,   91.2  ])"
      ]
     },
     "execution_count": 35,
     "metadata": {},
     "output_type": "execute_result"
    }
   ],
   "source": [
    "predictions[:10]"
   ]
  },
  {
   "cell_type": "code",
   "execution_count": 37,
   "metadata": {},
   "outputs": [],
   "source": [
    "rms=np.sqrt(np.mean(np.power((np.array(y_test)-np.array(predictions)),2)))"
   ]
  },
  {
   "cell_type": "code",
   "execution_count": 39,
   "metadata": {},
   "outputs": [
    {
     "name": "stdout",
     "output_type": "stream",
     "text": [
      "1083.193825002156\n"
     ]
    }
   ],
   "source": [
    "print(rms)"
   ]
  },
  {
   "cell_type": "code",
   "execution_count": 42,
   "metadata": {},
   "outputs": [
    {
     "name": "stderr",
     "output_type": "stream",
     "text": [
      "c:\\users\\biju\\.conda\\envs\\py363\\lib\\site-packages\\ipykernel_launcher.py:1: SettingWithCopyWarning: \n",
      "A value is trying to be set on a copy of a slice from a DataFrame.\n",
      "Try using .loc[row_indexer,col_indexer] = value instead\n",
      "\n",
      "See the caveats in the documentation: http://pandas.pydata.org/pandas-docs/stable/user_guide/indexing.html#returning-a-view-versus-a-copy\n",
      "  \"\"\"Entry point for launching an IPython kernel.\n",
      "c:\\users\\biju\\.conda\\envs\\py363\\lib\\site-packages\\ipykernel_launcher.py:2: SettingWithCopyWarning: \n",
      "A value is trying to be set on a copy of a slice from a DataFrame.\n",
      "Try using .loc[row_indexer,col_indexer] = value instead\n",
      "\n",
      "See the caveats in the documentation: http://pandas.pydata.org/pandas-docs/stable/user_guide/indexing.html#returning-a-view-versus-a-copy\n",
      "  \n"
     ]
    },
    {
     "data": {
      "text/plain": [
       "[<matplotlib.lines.Line2D at 0x1e7e798de10>]"
      ]
     },
     "execution_count": 42,
     "metadata": {},
     "output_type": "execute_result"
    },
    {
     "data": {
      "image/png": "[encoded data removed]",
      "text/plain": [
       "<Figure size 1440x720 with 1 Axes>"
      ]
     },
     "metadata": {
      "needs_background": "light"
     },
     "output_type": "display_data"
    }
   ],
   "source": [
    "test_data['Predictions'] = 0\n",
    "test_data['Predictions'] = predictions\n",
    "plt.plot(test_data[['CLOSE', 'Predictions']])\n",
    "plt.plot(train_data['CLOSE'])"
   ]
  },
  {
   "cell_type": "code",
   "execution_count": 43,
   "metadata": {},
   "outputs": [
    {
     "data": {
      "text/html": [
       "<div>\n",
       "<style scoped>\n",
       "    .dataframe tbody tr th:only-of-type {\n",
       "        vertical-align: middle;\n",
       "    }\n",
       "\n",
       "    .dataframe tbody tr th {\n",
       "        vertical-align: top;\n",
       "    }\n",
       "\n",
       "    .dataframe thead th {\n",
       "        text-align: right;\n",
       "    }\n",
       "</style>\n",
       "<table border=\"1\" class=\"dataframe\">\n",
       "  <thead>\n",
       "    <tr style=\"text-align: right;\">\n",
       "      <th></th>\n",
       "      <th>OPEN</th>\n",
       "      <th>HIGH</th>\n",
       "      <th>LOW</th>\n",
       "      <th>CLOSE</th>\n",
       "      <th>LAST</th>\n",
       "      <th>PREVCLOSE</th>\n",
       "      <th>TOTTRDQTY</th>\n",
       "      <th>TOTTRDVAL</th>\n",
       "      <th>TOTALTRADES</th>\n",
       "      <th>Predictions</th>\n",
       "    </tr>\n",
       "  </thead>\n",
       "  <tbody>\n",
       "    <tr>\n",
       "      <th>746404</th>\n",
       "      <td>97.00</td>\n",
       "      <td>99.90</td>\n",
       "      <td>94.40</td>\n",
       "      <td>94.70</td>\n",
       "      <td>94.6</td>\n",
       "      <td>97.85</td>\n",
       "      <td>11938</td>\n",
       "      <td>1143262.95</td>\n",
       "      <td>362</td>\n",
       "      <td>157.275</td>\n",
       "    </tr>\n",
       "    <tr>\n",
       "      <th>746405</th>\n",
       "      <td>3.50</td>\n",
       "      <td>3.50</td>\n",
       "      <td>3.20</td>\n",
       "      <td>3.20</td>\n",
       "      <td>3.2</td>\n",
       "      <td>3.55</td>\n",
       "      <td>57148</td>\n",
       "      <td>184412.90</td>\n",
       "      <td>92</td>\n",
       "      <td>5.525</td>\n",
       "    </tr>\n",
       "    <tr>\n",
       "      <th>746406</th>\n",
       "      <td>66.10</td>\n",
       "      <td>66.10</td>\n",
       "      <td>60.55</td>\n",
       "      <td>61.35</td>\n",
       "      <td>62.7</td>\n",
       "      <td>65.00</td>\n",
       "      <td>12813</td>\n",
       "      <td>816569.70</td>\n",
       "      <td>68</td>\n",
       "      <td>103.525</td>\n",
       "    </tr>\n",
       "    <tr>\n",
       "      <th>746407</th>\n",
       "      <td>21.25</td>\n",
       "      <td>22.40</td>\n",
       "      <td>21.25</td>\n",
       "      <td>22.05</td>\n",
       "      <td>22.3</td>\n",
       "      <td>21.80</td>\n",
       "      <td>223654</td>\n",
       "      <td>4918246.80</td>\n",
       "      <td>592</td>\n",
       "      <td>35.825</td>\n",
       "    </tr>\n",
       "    <tr>\n",
       "      <th>746408</th>\n",
       "      <td>22.30</td>\n",
       "      <td>22.35</td>\n",
       "      <td>20.50</td>\n",
       "      <td>20.90</td>\n",
       "      <td>20.9</td>\n",
       "      <td>21.45</td>\n",
       "      <td>11638</td>\n",
       "      <td>245572.00</td>\n",
       "      <td>62</td>\n",
       "      <td>34.875</td>\n",
       "    </tr>\n",
       "  </tbody>\n",
       "</table>\n",
       "</div>"
      ],
      "text/plain": [
       "         OPEN   HIGH    LOW  CLOSE  LAST  PREVCLOSE  TOTTRDQTY   TOTTRDVAL  \\\n",
       "746404  97.00  99.90  94.40  94.70  94.6      97.85      11938  1143262.95   \n",
       "746405   3.50   3.50   3.20   3.20   3.2       3.55      57148   184412.90   \n",
       "746406  66.10  66.10  60.55  61.35  62.7      65.00      12813   816569.70   \n",
       "746407  21.25  22.40  21.25  22.05  22.3      21.80     223654  4918246.80   \n",
       "746408  22.30  22.35  20.50  20.90  20.9      21.45      11638   245572.00   \n",
       "\n",
       "        TOTALTRADES  Predictions  \n",
       "746404          362      157.275  \n",
       "746405           92        5.525  \n",
       "746406           68      103.525  \n",
       "746407          592       35.825  \n",
       "746408           62       34.875  "
      ]
     },
     "execution_count": 43,
     "metadata": {},
     "output_type": "execute_result"
    }
   ],
   "source": [
    "test_data.head()"
   ]
  },
  {
   "cell_type": "code",
   "execution_count": null,
   "metadata": {},
   "outputs": [],
   "source": []
  }
 ],
 "metadata": {
  "kernelspec": {
   "display_name": "Python 3",
   "language": "python",
   "name": "python3"
  },
  "language_info": {
   "codemirror_mode": {
    "name": "ipython",
    "version": 3
   },
   "file_extension": ".py",
   "mimetype": "text/x-python",
   "name": "python",
   "nbconvert_exporter": "python",
   "pygments_lexer": "ipython3",
   "version": "3.6.3"
  }
 },
 "nbformat": 4,
 "nbformat_minor": 2
}
